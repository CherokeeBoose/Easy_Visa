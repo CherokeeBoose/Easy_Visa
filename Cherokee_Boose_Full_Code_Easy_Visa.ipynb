{
  "cells": [
    {
      "cell_type": "markdown",
      "metadata": {
        "id": "YFo4ap2ND0Zz"
      },
      "source": [
        "# EasyVisa Case Study: Visa Application Prediction\n",
        "## Objective\n",
        "In FY 2016, the OFLC processed 775,876 employer applications for 1,089,657 positions for temporary and permanent labor certification. This was a mere fraction of the overall number of processed applications from the previous year. The process of reviewing every case is becoming a tedious task as the number of applicants is increasing every year.\n",
        "\n",
        "The increasing number of applicants every year calls for a Machine Learning based solution that can be continuously trained on data submitted in the past and assist in decision-making. OFLC has hired the firm EasyVisa for data-driven solutions. You, as a data scientist at EasyVisa, have to analyze the data provided and, with the help of a classification model:\n",
        "\n",
        "1/ Facilitate the process of visa approvals.\n",
        "\n",
        "2/ Recommend a suitable profile for the applicants for whom the visa should be certified or denied based on the drivers that significantly influence the case outcome."
      ],
      "id": "YFo4ap2ND0Zz"
    },
    {
      "cell_type": "markdown",
      "source": [
        "## Context\n",
        "Business communities in the United States are facing high demand for human resources, but one of the constant challenges is identifying and attracting the right talent, which is perhaps the most important element in remaining competitive. Companies in the United States look for hard-working, talented, and qualified individuals both locally as well as abroad.\n",
        "The Immigration and Nationality Act (INA) of the US permits foreign workers to come to the United States to work on a temporary or permanent basis. The US government protects US workers against adverse impacts on their wages or working conditions by ensuring US employers' compliance with statutory requirements when they hire foreign workers to fill workforce shortages. The immigration program uses data from the Office of Foreign Labor Certification (OFLC).\n",
        "OFLC processes job certification applications from employers seeking to bring foreign workers into the United States and grants certification to those applications where employers can demonstrate that there are not sufficient US workers available to perform the work at wages that meet or exceed the wage paid for the occupation in the area of intended employment."
      ],
      "metadata": {
        "id": "FkbZxnJJ-9aH"
      },
      "id": "FkbZxnJJ-9aH"
    },
    {
      "cell_type": "markdown",
      "source": [
        "## Data Description\n",
        "The data contains the different attributes of the employee and the employer. The detailed data dictionary is given below:\n",
        "\n",
        "**case_id**: ID of each visa application\n",
        "\n",
        "**continent_of_employment**: Continent of employment\n",
        "\n",
        "**education_of_employee**: Information of education of the employee\n",
        "\n",
        "**has_job_experience**: Whether the employee has any prior experience: Y = Yes, N = No\n",
        "\n",
        "**requires_job_training**: Whether the job requires on-the-job training: Y = Yes, N = No\n",
        "\n",
        "**job_experience**: Number of years of job experience the employee has\n",
        "\n",
        "**no_of_employees**: Number of employees in the company\n",
        "\n",
        "**yr_of_estab**: Year in which the company was established\n",
        "\n",
        "**region_of_employment**: Region where the employee has applied for employment in the US\n",
        "\n",
        "**prevailing_wage**: Wage offered by the employer\n",
        "\n",
        "**unit_of_wage**: Unit in which the wage is given (e.g., Hour, Month)\n",
        "\n",
        "**full_time_position**: Whether the position is full-time: Y = Yes, N = No\n",
        "\n",
        "**worksite**: Location of the job\n",
        "\n",
        "**case_status**: Status of the application (Certified, Denied, Withdrawn)\n",
        "\n",
        "**Note**: The purpose of the prevailing wage is to ensure that the foreign worker is not underpaid compared to other workers offering the same or similar services in the same area of employment."
      ],
      "metadata": {
        "id": "g0avnMy1_2Rv"
      },
      "id": "g0avnMy1_2Rv"
    },
    {
      "cell_type": "markdown",
      "source": [
        "### Import necessary libraries"
      ],
      "metadata": {
        "id": "pSmJ24paowTh"
      },
      "id": "pSmJ24paowTh"
    },
    {
      "cell_type": "code",
      "metadata": {
        "id": "gDIKDfIyD0Z2"
      },
      "source": [
        "# Import warnings and configure\n",
        "import warnings\n",
        "warnings.filterwarnings('ignore')\n",
        "\n",
        "# Data manipulation and analysis\n",
        "import numpy as np\n",
        "import pandas as pd\n",
        "\n",
        "# Data visualization\n",
        "import matplotlib.pyplot as plt\n",
        "import seaborn as sns\n",
        "\n",
        "# Scikit-learn imports\n",
        "## Model Selection and Evaluation\n",
        "from sklearn.model_selection import train_test_split, cross_val_score\n",
        "from sklearn.metrics import (\n",
        "    accuracy_score,\n",
        "    classification_report,\n",
        "    confusion_matrix\n",
        ")\n",
        "\n",
        "## Preprocessing\n",
        "from sklearn.preprocessing import LabelEncoder, StandardScaler\n",
        "from sklearn.impute import SimpleImputer\n",
        "\n",
        "## Models\n",
        "from sklearn.tree import DecisionTreeClassifier\n",
        "from sklearn.ensemble import (\n",
        "    RandomForestClassifier,\n",
        "    GradientBoostingClassifier,\n",
        "    AdaBoostClassifier,\n",
        "    BaggingClassifier\n",
        ")\n",
        "\n",
        "# Set basic plotting parameters\n",
        "plt.rcParams['figure.figsize'] = (10, 6)\n",
        "plt.rcParams['axes.grid'] = True\n",
        "sns.set_theme(style=\"whitegrid\")  # Modern seaborn styling\n"
      ],
      "execution_count": null,
      "outputs": [],
      "id": "gDIKDfIyD0Z2"
    },
    {
      "cell_type": "markdown",
      "metadata": {
        "id": "0tuHwuqSD0Z4"
      },
      "source": [
        "## Load Dataset\n",
        "Assuming your dataset is a CSV file named `EasyVisa.csv`."
      ],
      "id": "0tuHwuqSD0Z4"
    },
    {
      "cell_type": "code",
      "metadata": {
        "colab": {
          "base_uri": "https://localhost:8080/",
          "height": 207
        },
        "id": "D-2lQjQyD0Z4",
        "outputId": "1629fef3-a82e-4bfd-a5e0-94121f8f9f44"
      },
      "source": [
        "# Load the dataset\n",
        "data = pd.read_csv('EasyVisa.csv')\n",
        "data.head()"
      ],
      "execution_count": null,
      "outputs": [
        {
          "output_type": "execute_result",
          "data": {
            "text/plain": [
              "  case_id continent education_of_employee has_job_experience  \\\n",
              "0  EZYV01      Asia           High School                  N   \n",
              "1  EZYV02      Asia              Master's                  Y   \n",
              "2  EZYV03      Asia            Bachelor's                  N   \n",
              "3  EZYV04      Asia            Bachelor's                  N   \n",
              "4  EZYV05    Africa              Master's                  Y   \n",
              "\n",
              "  requires_job_training  no_of_employees  yr_of_estab region_of_employment  \\\n",
              "0                     N            14513         2007                 West   \n",
              "1                     N             2412         2002            Northeast   \n",
              "2                     Y            44444         2008                 West   \n",
              "3                     N               98         1897                 West   \n",
              "4                     N             1082         2005                South   \n",
              "\n",
              "   prevailing_wage unit_of_wage full_time_position case_status  \n",
              "0         592.2029         Hour                  Y      Denied  \n",
              "1       83425.6500         Year                  Y   Certified  \n",
              "2      122996.8600         Year                  Y      Denied  \n",
              "3       83434.0300         Year                  Y      Denied  \n",
              "4      149907.3900         Year                  Y   Certified  "
            ],
            "text/html": [
              "\n",
              "  <div id=\"df-f19b7f8c-d9c6-4915-b0a5-11e674407aa6\" class=\"colab-df-container\">\n",
              "    <div>\n",
              "<style scoped>\n",
              "    .dataframe tbody tr th:only-of-type {\n",
              "        vertical-align: middle;\n",
              "    }\n",
              "\n",
              "    .dataframe tbody tr th {\n",
              "        vertical-align: top;\n",
              "    }\n",
              "\n",
              "    .dataframe thead th {\n",
              "        text-align: right;\n",
              "    }\n",
              "</style>\n",
              "<table border=\"1\" class=\"dataframe\">\n",
              "  <thead>\n",
              "    <tr style=\"text-align: right;\">\n",
              "      <th></th>\n",
              "      <th>case_id</th>\n",
              "      <th>continent</th>\n",
              "      <th>education_of_employee</th>\n",
              "      <th>has_job_experience</th>\n",
              "      <th>requires_job_training</th>\n",
              "      <th>no_of_employees</th>\n",
              "      <th>yr_of_estab</th>\n",
              "      <th>region_of_employment</th>\n",
              "      <th>prevailing_wage</th>\n",
              "      <th>unit_of_wage</th>\n",
              "      <th>full_time_position</th>\n",
              "      <th>case_status</th>\n",
              "    </tr>\n",
              "  </thead>\n",
              "  <tbody>\n",
              "    <tr>\n",
              "      <th>0</th>\n",
              "      <td>EZYV01</td>\n",
              "      <td>Asia</td>\n",
              "      <td>High School</td>\n",
              "      <td>N</td>\n",
              "      <td>N</td>\n",
              "      <td>14513</td>\n",
              "      <td>2007</td>\n",
              "      <td>West</td>\n",
              "      <td>592.2029</td>\n",
              "      <td>Hour</td>\n",
              "      <td>Y</td>\n",
              "      <td>Denied</td>\n",
              "    </tr>\n",
              "    <tr>\n",
              "      <th>1</th>\n",
              "      <td>EZYV02</td>\n",
              "      <td>Asia</td>\n",
              "      <td>Master's</td>\n",
              "      <td>Y</td>\n",
              "      <td>N</td>\n",
              "      <td>2412</td>\n",
              "      <td>2002</td>\n",
              "      <td>Northeast</td>\n",
              "      <td>83425.6500</td>\n",
              "      <td>Year</td>\n",
              "      <td>Y</td>\n",
              "      <td>Certified</td>\n",
              "    </tr>\n",
              "    <tr>\n",
              "      <th>2</th>\n",
              "      <td>EZYV03</td>\n",
              "      <td>Asia</td>\n",
              "      <td>Bachelor's</td>\n",
              "      <td>N</td>\n",
              "      <td>Y</td>\n",
              "      <td>44444</td>\n",
              "      <td>2008</td>\n",
              "      <td>West</td>\n",
              "      <td>122996.8600</td>\n",
              "      <td>Year</td>\n",
              "      <td>Y</td>\n",
              "      <td>Denied</td>\n",
              "    </tr>\n",
              "    <tr>\n",
              "      <th>3</th>\n",
              "      <td>EZYV04</td>\n",
              "      <td>Asia</td>\n",
              "      <td>Bachelor's</td>\n",
              "      <td>N</td>\n",
              "      <td>N</td>\n",
              "      <td>98</td>\n",
              "      <td>1897</td>\n",
              "      <td>West</td>\n",
              "      <td>83434.0300</td>\n",
              "      <td>Year</td>\n",
              "      <td>Y</td>\n",
              "      <td>Denied</td>\n",
              "    </tr>\n",
              "    <tr>\n",
              "      <th>4</th>\n",
              "      <td>EZYV05</td>\n",
              "      <td>Africa</td>\n",
              "      <td>Master's</td>\n",
              "      <td>Y</td>\n",
              "      <td>N</td>\n",
              "      <td>1082</td>\n",
              "      <td>2005</td>\n",
              "      <td>South</td>\n",
              "      <td>149907.3900</td>\n",
              "      <td>Year</td>\n",
              "      <td>Y</td>\n",
              "      <td>Certified</td>\n",
              "    </tr>\n",
              "  </tbody>\n",
              "</table>\n",
              "</div>\n",
              "    <div class=\"colab-df-buttons\">\n",
              "\n",
              "  <div class=\"colab-df-container\">\n",
              "    <button class=\"colab-df-convert\" onclick=\"convertToInteractive('df-f19b7f8c-d9c6-4915-b0a5-11e674407aa6')\"\n",
              "            title=\"Convert this dataframe to an interactive table.\"\n",
              "            style=\"display:none;\">\n",
              "\n",
              "  <svg xmlns=\"http://www.w3.org/2000/svg\" height=\"24px\" viewBox=\"0 -960 960 960\">\n",
              "    <path d=\"M120-120v-720h720v720H120Zm60-500h600v-160H180v160Zm220 220h160v-160H400v160Zm0 220h160v-160H400v160ZM180-400h160v-160H180v160Zm440 0h160v-160H620v160ZM180-180h160v-160H180v160Zm440 0h160v-160H620v160Z\"/>\n",
              "  </svg>\n",
              "    </button>\n",
              "\n",
              "  <style>\n",
              "    .colab-df-container {\n",
              "      display:flex;\n",
              "      gap: 12px;\n",
              "    }\n",
              "\n",
              "    .colab-df-convert {\n",
              "      background-color: #E8F0FE;\n",
              "      border: none;\n",
              "      border-radius: 50%;\n",
              "      cursor: pointer;\n",
              "      display: none;\n",
              "      fill: #1967D2;\n",
              "      height: 32px;\n",
              "      padding: 0 0 0 0;\n",
              "      width: 32px;\n",
              "    }\n",
              "\n",
              "    .colab-df-convert:hover {\n",
              "      background-color: #E2EBFA;\n",
              "      box-shadow: 0px 1px 2px rgba(60, 64, 67, 0.3), 0px 1px 3px 1px rgba(60, 64, 67, 0.15);\n",
              "      fill: #174EA6;\n",
              "    }\n",
              "\n",
              "    .colab-df-buttons div {\n",
              "      margin-bottom: 4px;\n",
              "    }\n",
              "\n",
              "    [theme=dark] .colab-df-convert {\n",
              "      background-color: #3B4455;\n",
              "      fill: #D2E3FC;\n",
              "    }\n",
              "\n",
              "    [theme=dark] .colab-df-convert:hover {\n",
              "      background-color: #434B5C;\n",
              "      box-shadow: 0px 1px 3px 1px rgba(0, 0, 0, 0.15);\n",
              "      filter: drop-shadow(0px 1px 2px rgba(0, 0, 0, 0.3));\n",
              "      fill: #FFFFFF;\n",
              "    }\n",
              "  </style>\n",
              "\n",
              "    <script>\n",
              "      const buttonEl =\n",
              "        document.querySelector('#df-f19b7f8c-d9c6-4915-b0a5-11e674407aa6 button.colab-df-convert');\n",
              "      buttonEl.style.display =\n",
              "        google.colab.kernel.accessAllowed ? 'block' : 'none';\n",
              "\n",
              "      async function convertToInteractive(key) {\n",
              "        const element = document.querySelector('#df-f19b7f8c-d9c6-4915-b0a5-11e674407aa6');\n",
              "        const dataTable =\n",
              "          await google.colab.kernel.invokeFunction('convertToInteractive',\n",
              "                                                    [key], {});\n",
              "        if (!dataTable) return;\n",
              "\n",
              "        const docLinkHtml = 'Like what you see? Visit the ' +\n",
              "          '<a target=\"_blank\" href=https://colab.research.google.com/notebooks/data_table.ipynb>data table notebook</a>'\n",
              "          + ' to learn more about interactive tables.';\n",
              "        element.innerHTML = '';\n",
              "        dataTable['output_type'] = 'display_data';\n",
              "        await google.colab.output.renderOutput(dataTable, element);\n",
              "        const docLink = document.createElement('div');\n",
              "        docLink.innerHTML = docLinkHtml;\n",
              "        element.appendChild(docLink);\n",
              "      }\n",
              "    </script>\n",
              "  </div>\n",
              "\n",
              "\n",
              "    <div id=\"df-ee61dba6-e0b9-4a83-912d-828499c7780b\">\n",
              "      <button class=\"colab-df-quickchart\" onclick=\"quickchart('df-ee61dba6-e0b9-4a83-912d-828499c7780b')\"\n",
              "                title=\"Suggest charts\"\n",
              "                style=\"display:none;\">\n",
              "\n",
              "<svg xmlns=\"http://www.w3.org/2000/svg\" height=\"24px\"viewBox=\"0 0 24 24\"\n",
              "     width=\"24px\">\n",
              "    <g>\n",
              "        <path d=\"M19 3H5c-1.1 0-2 .9-2 2v14c0 1.1.9 2 2 2h14c1.1 0 2-.9 2-2V5c0-1.1-.9-2-2-2zM9 17H7v-7h2v7zm4 0h-2V7h2v10zm4 0h-2v-4h2v4z\"/>\n",
              "    </g>\n",
              "</svg>\n",
              "      </button>\n",
              "\n",
              "<style>\n",
              "  .colab-df-quickchart {\n",
              "      --bg-color: #E8F0FE;\n",
              "      --fill-color: #1967D2;\n",
              "      --hover-bg-color: #E2EBFA;\n",
              "      --hover-fill-color: #174EA6;\n",
              "      --disabled-fill-color: #AAA;\n",
              "      --disabled-bg-color: #DDD;\n",
              "  }\n",
              "\n",
              "  [theme=dark] .colab-df-quickchart {\n",
              "      --bg-color: #3B4455;\n",
              "      --fill-color: #D2E3FC;\n",
              "      --hover-bg-color: #434B5C;\n",
              "      --hover-fill-color: #FFFFFF;\n",
              "      --disabled-bg-color: #3B4455;\n",
              "      --disabled-fill-color: #666;\n",
              "  }\n",
              "\n",
              "  .colab-df-quickchart {\n",
              "    background-color: var(--bg-color);\n",
              "    border: none;\n",
              "    border-radius: 50%;\n",
              "    cursor: pointer;\n",
              "    display: none;\n",
              "    fill: var(--fill-color);\n",
              "    height: 32px;\n",
              "    padding: 0;\n",
              "    width: 32px;\n",
              "  }\n",
              "\n",
              "  .colab-df-quickchart:hover {\n",
              "    background-color: var(--hover-bg-color);\n",
              "    box-shadow: 0 1px 2px rgba(60, 64, 67, 0.3), 0 1px 3px 1px rgba(60, 64, 67, 0.15);\n",
              "    fill: var(--button-hover-fill-color);\n",
              "  }\n",
              "\n",
              "  .colab-df-quickchart-complete:disabled,\n",
              "  .colab-df-quickchart-complete:disabled:hover {\n",
              "    background-color: var(--disabled-bg-color);\n",
              "    fill: var(--disabled-fill-color);\n",
              "    box-shadow: none;\n",
              "  }\n",
              "\n",
              "  .colab-df-spinner {\n",
              "    border: 2px solid var(--fill-color);\n",
              "    border-color: transparent;\n",
              "    border-bottom-color: var(--fill-color);\n",
              "    animation:\n",
              "      spin 1s steps(1) infinite;\n",
              "  }\n",
              "\n",
              "  @keyframes spin {\n",
              "    0% {\n",
              "      border-color: transparent;\n",
              "      border-bottom-color: var(--fill-color);\n",
              "      border-left-color: var(--fill-color);\n",
              "    }\n",
              "    20% {\n",
              "      border-color: transparent;\n",
              "      border-left-color: var(--fill-color);\n",
              "      border-top-color: var(--fill-color);\n",
              "    }\n",
              "    30% {\n",
              "      border-color: transparent;\n",
              "      border-left-color: var(--fill-color);\n",
              "      border-top-color: var(--fill-color);\n",
              "      border-right-color: var(--fill-color);\n",
              "    }\n",
              "    40% {\n",
              "      border-color: transparent;\n",
              "      border-right-color: var(--fill-color);\n",
              "      border-top-color: var(--fill-color);\n",
              "    }\n",
              "    60% {\n",
              "      border-color: transparent;\n",
              "      border-right-color: var(--fill-color);\n",
              "    }\n",
              "    80% {\n",
              "      border-color: transparent;\n",
              "      border-right-color: var(--fill-color);\n",
              "      border-bottom-color: var(--fill-color);\n",
              "    }\n",
              "    90% {\n",
              "      border-color: transparent;\n",
              "      border-bottom-color: var(--fill-color);\n",
              "    }\n",
              "  }\n",
              "</style>\n",
              "\n",
              "      <script>\n",
              "        async function quickchart(key) {\n",
              "          const quickchartButtonEl =\n",
              "            document.querySelector('#' + key + ' button');\n",
              "          quickchartButtonEl.disabled = true;  // To prevent multiple clicks.\n",
              "          quickchartButtonEl.classList.add('colab-df-spinner');\n",
              "          try {\n",
              "            const charts = await google.colab.kernel.invokeFunction(\n",
              "                'suggestCharts', [key], {});\n",
              "          } catch (error) {\n",
              "            console.error('Error during call to suggestCharts:', error);\n",
              "          }\n",
              "          quickchartButtonEl.classList.remove('colab-df-spinner');\n",
              "          quickchartButtonEl.classList.add('colab-df-quickchart-complete');\n",
              "        }\n",
              "        (() => {\n",
              "          let quickchartButtonEl =\n",
              "            document.querySelector('#df-ee61dba6-e0b9-4a83-912d-828499c7780b button');\n",
              "          quickchartButtonEl.style.display =\n",
              "            google.colab.kernel.accessAllowed ? 'block' : 'none';\n",
              "        })();\n",
              "      </script>\n",
              "    </div>\n",
              "\n",
              "    </div>\n",
              "  </div>\n"
            ],
            "application/vnd.google.colaboratory.intrinsic+json": {
              "type": "dataframe",
              "variable_name": "data",
              "summary": "{\n  \"name\": \"data\",\n  \"rows\": 25480,\n  \"fields\": [\n    {\n      \"column\": \"case_id\",\n      \"properties\": {\n        \"dtype\": \"string\",\n        \"num_unique_values\": 25480,\n        \"samples\": [\n          \"EZYV16746\",\n          \"EZYV9527\",\n          \"EZYV8359\"\n        ],\n        \"semantic_type\": \"\",\n        \"description\": \"\"\n      }\n    },\n    {\n      \"column\": \"continent\",\n      \"properties\": {\n        \"dtype\": \"category\",\n        \"num_unique_values\": 6,\n        \"samples\": [\n          \"Asia\",\n          \"Africa\",\n          \"Oceania\"\n        ],\n        \"semantic_type\": \"\",\n        \"description\": \"\"\n      }\n    },\n    {\n      \"column\": \"education_of_employee\",\n      \"properties\": {\n        \"dtype\": \"category\",\n        \"num_unique_values\": 4,\n        \"samples\": [\n          \"Master's\",\n          \"Doctorate\",\n          \"High School\"\n        ],\n        \"semantic_type\": \"\",\n        \"description\": \"\"\n      }\n    },\n    {\n      \"column\": \"has_job_experience\",\n      \"properties\": {\n        \"dtype\": \"category\",\n        \"num_unique_values\": 2,\n        \"samples\": [\n          \"Y\",\n          \"N\"\n        ],\n        \"semantic_type\": \"\",\n        \"description\": \"\"\n      }\n    },\n    {\n      \"column\": \"requires_job_training\",\n      \"properties\": {\n        \"dtype\": \"category\",\n        \"num_unique_values\": 2,\n        \"samples\": [\n          \"Y\",\n          \"N\"\n        ],\n        \"semantic_type\": \"\",\n        \"description\": \"\"\n      }\n    },\n    {\n      \"column\": \"no_of_employees\",\n      \"properties\": {\n        \"dtype\": \"number\",\n        \"std\": 22877,\n        \"min\": -26,\n        \"max\": 602069,\n        \"num_unique_values\": 7105,\n        \"samples\": [\n          146713,\n          9342\n        ],\n        \"semantic_type\": \"\",\n        \"description\": \"\"\n      }\n    },\n    {\n      \"column\": \"yr_of_estab\",\n      \"properties\": {\n        \"dtype\": \"number\",\n        \"std\": 42,\n        \"min\": 1800,\n        \"max\": 2016,\n        \"num_unique_values\": 199,\n        \"samples\": [\n          1843,\n          1972\n        ],\n        \"semantic_type\": \"\",\n        \"description\": \"\"\n      }\n    },\n    {\n      \"column\": \"region_of_employment\",\n      \"properties\": {\n        \"dtype\": \"category\",\n        \"num_unique_values\": 5,\n        \"samples\": [\n          \"Northeast\",\n          \"Island\"\n        ],\n        \"semantic_type\": \"\",\n        \"description\": \"\"\n      }\n    },\n    {\n      \"column\": \"prevailing_wage\",\n      \"properties\": {\n        \"dtype\": \"number\",\n        \"std\": 52815.94232687357,\n        \"min\": 2.1367,\n        \"max\": 319210.27,\n        \"num_unique_values\": 25454,\n        \"samples\": [\n          44218.42,\n          60458.9\n        ],\n        \"semantic_type\": \"\",\n        \"description\": \"\"\n      }\n    },\n    {\n      \"column\": \"unit_of_wage\",\n      \"properties\": {\n        \"dtype\": \"category\",\n        \"num_unique_values\": 4,\n        \"samples\": [\n          \"Year\",\n          \"Month\"\n        ],\n        \"semantic_type\": \"\",\n        \"description\": \"\"\n      }\n    },\n    {\n      \"column\": \"full_time_position\",\n      \"properties\": {\n        \"dtype\": \"category\",\n        \"num_unique_values\": 2,\n        \"samples\": [\n          \"N\",\n          \"Y\"\n        ],\n        \"semantic_type\": \"\",\n        \"description\": \"\"\n      }\n    },\n    {\n      \"column\": \"case_status\",\n      \"properties\": {\n        \"dtype\": \"category\",\n        \"num_unique_values\": 2,\n        \"samples\": [\n          \"Certified\",\n          \"Denied\"\n        ],\n        \"semantic_type\": \"\",\n        \"description\": \"\"\n      }\n    }\n  ]\n}"
            }
          },
          "metadata": {},
          "execution_count": 2
        }
      ],
      "id": "D-2lQjQyD0Z4"
    },
    {
      "cell_type": "markdown",
      "source": [
        "### Data Overview\n",
        "Before applying any data transformations, we examine the structure and contents of the raw dataset to establish a baseline. This step provides insights into column types, dataset shape, and statistical distribution. It also helps identify missing values or formatting issues that may require cleaning.\n",
        "We save a copy of the original dataset to enable a before-and-after comparison once preprocessing is complete.\n",
        "* Total rows: 25,480\n",
        "* No missing values\n",
        "* Key variables include education level, job experience, wage, and employment region"
      ],
      "metadata": {
        "id": "MsMNDSC2kmiK"
      },
      "id": "MsMNDSC2kmiK"
    },
    {
      "cell_type": "code",
      "source": [
        "# Save a copy of the raw dataset for comparison\n",
        "original_data = data.copy()\n",
        "# View structural summary\n",
        "print(\"Raw dataset shape:\", data.shape)\n",
        "print(\"Column names:\", data.columns.tolist())\n",
        "print(\"\\nColumn data types:\")\n",
        "print(data.dtypes)\n",
        "# View basic statistics for numeric columns\n",
        "print(\"\\nSummary statistics:\")\n",
        "display(data.describe().T)\n",
        "# Optional: Check for missing values per column\n",
        "print(\"\\nMissing values per column:\")\n",
        "print(data.isnull().sum())\n"
      ],
      "metadata": {
        "colab": {
          "base_uri": "https://localhost:8080/",
          "height": 760
        },
        "id": "OhJRTsW4k9jr",
        "outputId": "0734b193-5d3e-4127-e3d1-8d53fe527560"
      },
      "id": "OhJRTsW4k9jr",
      "execution_count": null,
      "outputs": [
        {
          "output_type": "stream",
          "name": "stdout",
          "text": [
            "Raw dataset shape: (25480, 12)\n",
            "Column names: ['case_id', 'continent', 'education_of_employee', 'has_job_experience', 'requires_job_training', 'no_of_employees', 'yr_of_estab', 'region_of_employment', 'prevailing_wage', 'unit_of_wage', 'full_time_position', 'case_status']\n",
            "\n",
            "Column data types:\n",
            "case_id                   object\n",
            "continent                 object\n",
            "education_of_employee     object\n",
            "has_job_experience        object\n",
            "requires_job_training     object\n",
            "no_of_employees            int64\n",
            "yr_of_estab                int64\n",
            "region_of_employment      object\n",
            "prevailing_wage          float64\n",
            "unit_of_wage              object\n",
            "full_time_position        object\n",
            "case_status               object\n",
            "dtype: object\n",
            "\n",
            "Summary statistics:\n"
          ]
        },
        {
          "output_type": "display_data",
          "data": {
            "text/plain": [
              "                   count          mean           std        min       25%  \\\n",
              "no_of_employees  25480.0   5667.043210  22877.928848   -26.0000   1022.00   \n",
              "yr_of_estab      25480.0   1979.409929     42.366929  1800.0000   1976.00   \n",
              "prevailing_wage  25480.0  74455.814592  52815.942327     2.1367  34015.48   \n",
              "\n",
              "                      50%          75%        max  \n",
              "no_of_employees   2109.00    3504.0000  602069.00  \n",
              "yr_of_estab       1997.00    2005.0000    2016.00  \n",
              "prevailing_wage  70308.21  107735.5125  319210.27  "
            ],
            "text/html": [
              "\n",
              "  <div id=\"df-4a008c47-ce4e-4a6d-915c-104f1b28aad9\" class=\"colab-df-container\">\n",
              "    <div>\n",
              "<style scoped>\n",
              "    .dataframe tbody tr th:only-of-type {\n",
              "        vertical-align: middle;\n",
              "    }\n",
              "\n",
              "    .dataframe tbody tr th {\n",
              "        vertical-align: top;\n",
              "    }\n",
              "\n",
              "    .dataframe thead th {\n",
              "        text-align: right;\n",
              "    }\n",
              "</style>\n",
              "<table border=\"1\" class=\"dataframe\">\n",
              "  <thead>\n",
              "    <tr style=\"text-align: right;\">\n",
              "      <th></th>\n",
              "      <th>count</th>\n",
              "      <th>mean</th>\n",
              "      <th>std</th>\n",
              "      <th>min</th>\n",
              "      <th>25%</th>\n",
              "      <th>50%</th>\n",
              "      <th>75%</th>\n",
              "      <th>max</th>\n",
              "    </tr>\n",
              "  </thead>\n",
              "  <tbody>\n",
              "    <tr>\n",
              "      <th>no_of_employees</th>\n",
              "      <td>25480.0</td>\n",
              "      <td>5667.043210</td>\n",
              "      <td>22877.928848</td>\n",
              "      <td>-26.0000</td>\n",
              "      <td>1022.00</td>\n",
              "      <td>2109.00</td>\n",
              "      <td>3504.0000</td>\n",
              "      <td>602069.00</td>\n",
              "    </tr>\n",
              "    <tr>\n",
              "      <th>yr_of_estab</th>\n",
              "      <td>25480.0</td>\n",
              "      <td>1979.409929</td>\n",
              "      <td>42.366929</td>\n",
              "      <td>1800.0000</td>\n",
              "      <td>1976.00</td>\n",
              "      <td>1997.00</td>\n",
              "      <td>2005.0000</td>\n",
              "      <td>2016.00</td>\n",
              "    </tr>\n",
              "    <tr>\n",
              "      <th>prevailing_wage</th>\n",
              "      <td>25480.0</td>\n",
              "      <td>74455.814592</td>\n",
              "      <td>52815.942327</td>\n",
              "      <td>2.1367</td>\n",
              "      <td>34015.48</td>\n",
              "      <td>70308.21</td>\n",
              "      <td>107735.5125</td>\n",
              "      <td>319210.27</td>\n",
              "    </tr>\n",
              "  </tbody>\n",
              "</table>\n",
              "</div>\n",
              "    <div class=\"colab-df-buttons\">\n",
              "\n",
              "  <div class=\"colab-df-container\">\n",
              "    <button class=\"colab-df-convert\" onclick=\"convertToInteractive('df-4a008c47-ce4e-4a6d-915c-104f1b28aad9')\"\n",
              "            title=\"Convert this dataframe to an interactive table.\"\n",
              "            style=\"display:none;\">\n",
              "\n",
              "  <svg xmlns=\"http://www.w3.org/2000/svg\" height=\"24px\" viewBox=\"0 -960 960 960\">\n",
              "    <path d=\"M120-120v-720h720v720H120Zm60-500h600v-160H180v160Zm220 220h160v-160H400v160Zm0 220h160v-160H400v160ZM180-400h160v-160H180v160Zm440 0h160v-160H620v160ZM180-180h160v-160H180v160Zm440 0h160v-160H620v160Z\"/>\n",
              "  </svg>\n",
              "    </button>\n",
              "\n",
              "  <style>\n",
              "    .colab-df-container {\n",
              "      display:flex;\n",
              "      gap: 12px;\n",
              "    }\n",
              "\n",
              "    .colab-df-convert {\n",
              "      background-color: #E8F0FE;\n",
              "      border: none;\n",
              "      border-radius: 50%;\n",
              "      cursor: pointer;\n",
              "      display: none;\n",
              "      fill: #1967D2;\n",
              "      height: 32px;\n",
              "      padding: 0 0 0 0;\n",
              "      width: 32px;\n",
              "    }\n",
              "\n",
              "    .colab-df-convert:hover {\n",
              "      background-color: #E2EBFA;\n",
              "      box-shadow: 0px 1px 2px rgba(60, 64, 67, 0.3), 0px 1px 3px 1px rgba(60, 64, 67, 0.15);\n",
              "      fill: #174EA6;\n",
              "    }\n",
              "\n",
              "    .colab-df-buttons div {\n",
              "      margin-bottom: 4px;\n",
              "    }\n",
              "\n",
              "    [theme=dark] .colab-df-convert {\n",
              "      background-color: #3B4455;\n",
              "      fill: #D2E3FC;\n",
              "    }\n",
              "\n",
              "    [theme=dark] .colab-df-convert:hover {\n",
              "      background-color: #434B5C;\n",
              "      box-shadow: 0px 1px 3px 1px rgba(0, 0, 0, 0.15);\n",
              "      filter: drop-shadow(0px 1px 2px rgba(0, 0, 0, 0.3));\n",
              "      fill: #FFFFFF;\n",
              "    }\n",
              "  </style>\n",
              "\n",
              "    <script>\n",
              "      const buttonEl =\n",
              "        document.querySelector('#df-4a008c47-ce4e-4a6d-915c-104f1b28aad9 button.colab-df-convert');\n",
              "      buttonEl.style.display =\n",
              "        google.colab.kernel.accessAllowed ? 'block' : 'none';\n",
              "\n",
              "      async function convertToInteractive(key) {\n",
              "        const element = document.querySelector('#df-4a008c47-ce4e-4a6d-915c-104f1b28aad9');\n",
              "        const dataTable =\n",
              "          await google.colab.kernel.invokeFunction('convertToInteractive',\n",
              "                                                    [key], {});\n",
              "        if (!dataTable) return;\n",
              "\n",
              "        const docLinkHtml = 'Like what you see? Visit the ' +\n",
              "          '<a target=\"_blank\" href=https://colab.research.google.com/notebooks/data_table.ipynb>data table notebook</a>'\n",
              "          + ' to learn more about interactive tables.';\n",
              "        element.innerHTML = '';\n",
              "        dataTable['output_type'] = 'display_data';\n",
              "        await google.colab.output.renderOutput(dataTable, element);\n",
              "        const docLink = document.createElement('div');\n",
              "        docLink.innerHTML = docLinkHtml;\n",
              "        element.appendChild(docLink);\n",
              "      }\n",
              "    </script>\n",
              "  </div>\n",
              "\n",
              "\n",
              "    <div id=\"df-fad103c1-cf2a-4619-b5d0-f1b31b6a3ec2\">\n",
              "      <button class=\"colab-df-quickchart\" onclick=\"quickchart('df-fad103c1-cf2a-4619-b5d0-f1b31b6a3ec2')\"\n",
              "                title=\"Suggest charts\"\n",
              "                style=\"display:none;\">\n",
              "\n",
              "<svg xmlns=\"http://www.w3.org/2000/svg\" height=\"24px\"viewBox=\"0 0 24 24\"\n",
              "     width=\"24px\">\n",
              "    <g>\n",
              "        <path d=\"M19 3H5c-1.1 0-2 .9-2 2v14c0 1.1.9 2 2 2h14c1.1 0 2-.9 2-2V5c0-1.1-.9-2-2-2zM9 17H7v-7h2v7zm4 0h-2V7h2v10zm4 0h-2v-4h2v4z\"/>\n",
              "    </g>\n",
              "</svg>\n",
              "      </button>\n",
              "\n",
              "<style>\n",
              "  .colab-df-quickchart {\n",
              "      --bg-color: #E8F0FE;\n",
              "      --fill-color: #1967D2;\n",
              "      --hover-bg-color: #E2EBFA;\n",
              "      --hover-fill-color: #174EA6;\n",
              "      --disabled-fill-color: #AAA;\n",
              "      --disabled-bg-color: #DDD;\n",
              "  }\n",
              "\n",
              "  [theme=dark] .colab-df-quickchart {\n",
              "      --bg-color: #3B4455;\n",
              "      --fill-color: #D2E3FC;\n",
              "      --hover-bg-color: #434B5C;\n",
              "      --hover-fill-color: #FFFFFF;\n",
              "      --disabled-bg-color: #3B4455;\n",
              "      --disabled-fill-color: #666;\n",
              "  }\n",
              "\n",
              "  .colab-df-quickchart {\n",
              "    background-color: var(--bg-color);\n",
              "    border: none;\n",
              "    border-radius: 50%;\n",
              "    cursor: pointer;\n",
              "    display: none;\n",
              "    fill: var(--fill-color);\n",
              "    height: 32px;\n",
              "    padding: 0;\n",
              "    width: 32px;\n",
              "  }\n",
              "\n",
              "  .colab-df-quickchart:hover {\n",
              "    background-color: var(--hover-bg-color);\n",
              "    box-shadow: 0 1px 2px rgba(60, 64, 67, 0.3), 0 1px 3px 1px rgba(60, 64, 67, 0.15);\n",
              "    fill: var(--button-hover-fill-color);\n",
              "  }\n",
              "\n",
              "  .colab-df-quickchart-complete:disabled,\n",
              "  .colab-df-quickchart-complete:disabled:hover {\n",
              "    background-color: var(--disabled-bg-color);\n",
              "    fill: var(--disabled-fill-color);\n",
              "    box-shadow: none;\n",
              "  }\n",
              "\n",
              "  .colab-df-spinner {\n",
              "    border: 2px solid var(--fill-color);\n",
              "    border-color: transparent;\n",
              "    border-bottom-color: var(--fill-color);\n",
              "    animation:\n",
              "      spin 1s steps(1) infinite;\n",
              "  }\n",
              "\n",
              "  @keyframes spin {\n",
              "    0% {\n",
              "      border-color: transparent;\n",
              "      border-bottom-color: var(--fill-color);\n",
              "      border-left-color: var(--fill-color);\n",
              "    }\n",
              "    20% {\n",
              "      border-color: transparent;\n",
              "      border-left-color: var(--fill-color);\n",
              "      border-top-color: var(--fill-color);\n",
              "    }\n",
              "    30% {\n",
              "      border-color: transparent;\n",
              "      border-left-color: var(--fill-color);\n",
              "      border-top-color: var(--fill-color);\n",
              "      border-right-color: var(--fill-color);\n",
              "    }\n",
              "    40% {\n",
              "      border-color: transparent;\n",
              "      border-right-color: var(--fill-color);\n",
              "      border-top-color: var(--fill-color);\n",
              "    }\n",
              "    60% {\n",
              "      border-color: transparent;\n",
              "      border-right-color: var(--fill-color);\n",
              "    }\n",
              "    80% {\n",
              "      border-color: transparent;\n",
              "      border-right-color: var(--fill-color);\n",
              "      border-bottom-color: var(--fill-color);\n",
              "    }\n",
              "    90% {\n",
              "      border-color: transparent;\n",
              "      border-bottom-color: var(--fill-color);\n",
              "    }\n",
              "  }\n",
              "</style>\n",
              "\n",
              "      <script>\n",
              "        async function quickchart(key) {\n",
              "          const quickchartButtonEl =\n",
              "            document.querySelector('#' + key + ' button');\n",
              "          quickchartButtonEl.disabled = true;  // To prevent multiple clicks.\n",
              "          quickchartButtonEl.classList.add('colab-df-spinner');\n",
              "          try {\n",
              "            const charts = await google.colab.kernel.invokeFunction(\n",
              "                'suggestCharts', [key], {});\n",
              "          } catch (error) {\n",
              "            console.error('Error during call to suggestCharts:', error);\n",
              "          }\n",
              "          quickchartButtonEl.classList.remove('colab-df-spinner');\n",
              "          quickchartButtonEl.classList.add('colab-df-quickchart-complete');\n",
              "        }\n",
              "        (() => {\n",
              "          let quickchartButtonEl =\n",
              "            document.querySelector('#df-fad103c1-cf2a-4619-b5d0-f1b31b6a3ec2 button');\n",
              "          quickchartButtonEl.style.display =\n",
              "            google.colab.kernel.accessAllowed ? 'block' : 'none';\n",
              "        })();\n",
              "      </script>\n",
              "    </div>\n",
              "\n",
              "    </div>\n",
              "  </div>\n"
            ],
            "application/vnd.google.colaboratory.intrinsic+json": {
              "type": "dataframe",
              "summary": "{\n  \"name\": \"print(data\",\n  \"rows\": 3,\n  \"fields\": [\n    {\n      \"column\": \"count\",\n      \"properties\": {\n        \"dtype\": \"number\",\n        \"std\": 0.0,\n        \"min\": 25480.0,\n        \"max\": 25480.0,\n        \"num_unique_values\": 1,\n        \"samples\": [\n          25480.0\n        ],\n        \"semantic_type\": \"\",\n        \"description\": \"\"\n      }\n    },\n    {\n      \"column\": \"mean\",\n      \"properties\": {\n        \"dtype\": \"number\",\n        \"std\": 40821.405618988225,\n        \"min\": 1979.409929356358,\n        \"max\": 74455.81459209183,\n        \"num_unique_values\": 3,\n        \"samples\": [\n          5667.043210361067\n        ],\n        \"semantic_type\": \"\",\n        \"description\": \"\"\n      }\n    },\n    {\n      \"column\": \"std\",\n      \"properties\": {\n        \"dtype\": \"number\",\n        \"std\": 26466.323883636098,\n        \"min\": 42.366929101569646,\n        \"max\": 52815.94232687357,\n        \"num_unique_values\": 3,\n        \"samples\": [\n          22877.928847734398\n        ],\n        \"semantic_type\": \"\",\n        \"description\": \"\"\n      }\n    },\n    {\n      \"column\": \"min\",\n      \"properties\": {\n        \"dtype\": \"number\",\n        \"std\": 1046.213818121785,\n        \"min\": -26.0,\n        \"max\": 1800.0,\n        \"num_unique_values\": 3,\n        \"samples\": [\n          -26.0\n        ],\n        \"semantic_type\": \"\",\n        \"description\": \"\"\n      }\n    },\n    {\n      \"column\": \"25%\",\n      \"properties\": {\n        \"dtype\": \"number\",\n        \"std\": 18779.45738114212,\n        \"min\": 1022.0,\n        \"max\": 34015.479999999996,\n        \"num_unique_values\": 3,\n        \"samples\": [\n          1022.0\n        ],\n        \"semantic_type\": \"\",\n        \"description\": \"\"\n      }\n    },\n    {\n      \"column\": \"50%\",\n      \"properties\": {\n        \"dtype\": \"number\",\n        \"std\": 39407.20365679393,\n        \"min\": 1997.0,\n        \"max\": 70308.20999999999,\n        \"num_unique_values\": 3,\n        \"samples\": [\n          2109.0\n        ],\n        \"semantic_type\": \"\",\n        \"description\": \"\"\n      }\n    },\n    {\n      \"column\": \"75%\",\n      \"properties\": {\n        \"dtype\": \"number\",\n        \"std\": 60615.44972550358,\n        \"min\": 2005.0,\n        \"max\": 107735.51250000001,\n        \"num_unique_values\": 3,\n        \"samples\": [\n          3504.0\n        ],\n        \"semantic_type\": \"\",\n        \"description\": \"\"\n      }\n    },\n    {\n      \"column\": \"max\",\n      \"properties\": {\n        \"dtype\": \"number\",\n        \"std\": 300190.18107055785,\n        \"min\": 2016.0,\n        \"max\": 602069.0,\n        \"num_unique_values\": 3,\n        \"samples\": [\n          602069.0\n        ],\n        \"semantic_type\": \"\",\n        \"description\": \"\"\n      }\n    }\n  ]\n}"
            }
          },
          "metadata": {}
        },
        {
          "output_type": "stream",
          "name": "stdout",
          "text": [
            "\n",
            "Missing values per column:\n",
            "case_id                  0\n",
            "continent                0\n",
            "education_of_employee    0\n",
            "has_job_experience       0\n",
            "requires_job_training    0\n",
            "no_of_employees          0\n",
            "yr_of_estab              0\n",
            "region_of_employment     0\n",
            "prevailing_wage          0\n",
            "unit_of_wage             0\n",
            "full_time_position       0\n",
            "case_status              0\n",
            "dtype: int64\n"
          ]
        }
      ]
    },
    {
      "cell_type": "markdown",
      "source": [
        "### Dataset Snapshot:\n",
        "Before applying any data transformations, we capture the structure of the original dataset to establish a baseline. This allows us to compare the impact of preprocessing steps such as encoding, imputation, scaling, and feature removal.\n",
        "Capturing the shape and column structure of the raw dataset supports transparency and traceability throughout the data pipeline."
      ],
      "metadata": {
        "id": "644kyXU7jG10"
      },
      "id": "644kyXU7jG10"
    },
    {
      "cell_type": "code",
      "metadata": {
        "colab": {
          "base_uri": "https://localhost:8080/"
        },
        "id": "qmpwGq1iD0Z5",
        "outputId": "f2a98245-0d4b-4a12-93d6-1ee1009ac294"
      },
      "source": [
        "# Save a copy of the raw dataset before modifications\n",
        "original_data = data.copy()\n",
        "# View basic structural information prior to preprocessing\n",
        "print(\"Data shape BEFORE preprocessing:\", data.shape)\n",
        "print(\"Columns BEFORE preprocessing:\\n\", data.columns.tolist())"
      ],
      "execution_count": null,
      "outputs": [
        {
          "output_type": "stream",
          "name": "stdout",
          "text": [
            "Data shape BEFORE preprocessing: (25480, 12)\n",
            "Columns BEFORE preprocessing:\n",
            " ['case_id', 'continent', 'education_of_employee', 'has_job_experience', 'requires_job_training', 'no_of_employees', 'yr_of_estab', 'region_of_employment', 'prevailing_wage', 'unit_of_wage', 'full_time_position', 'case_status']\n"
          ]
        }
      ],
      "id": "qmpwGq1iD0Z5"
    },
    {
      "cell_type": "markdown",
      "metadata": {
        "id": "SgqAst58D0Z6"
      },
      "source": [
        "\n",
        "## Data Preprocessing\n",
        "This section prepares the dataset for supervised machine learning by addressing key data quality and formatting requirements. The preprocessing steps below ensure the dataset is clean, numerically encoded, and compatible with modeling algorithms.\n",
        "\n",
        "This section prepares the dataset for supervised machine learning by executing several critical preprocessing tasks. The goal is to ensure the data is clean, consistent, and compatible with modeling requirements. Each step addresses potential issues commonly encountered in real-world datasets.\n",
        "\n",
        "**Core preprocessing tasks include:**\n",
        "\n",
        "* **Encoding categorical variables:** The `has_job_experience` column, which originally contains string values (\"Yes\", \"No\", and some ambiguous entries), is mapped to a binary format using a controlled `map()` function. Any missing or unexpected values are mapped to 0 (assuming no prior job experience), using .fillna(0). The values are then explicitly cast to integers.\n",
        "\n",
        "* **Dropping irrelevant features:** The `case_id` column is removed *if present*, as it serves only as a unique identifier and does not contribute to the predictive power of the model. Including a conditional check ensures this operation is robust even if the column is missing from the dataset.\n",
        "\n",
        "* **Converting the target variable:** The `case_status` column is transformed into a binary target variable for classification. Records labeled as “Certified” are encoded as 1, while all other case statuses (e.g., “Denied”, “Withdrawn”) are encoded as 0.\n",
        "\n",
        "* **Imputing missing values:** For all numeric columns, missing values are imputed using the column-wise mean. This approach preserves rows while maintaining the general distribution of each feature.\n",
        "\n",
        "* **Enforcing data types:** Both the `has_job_experience` and `case_status` columns are explicitly cast as integers to ensure data consistency and compatibility with machine learning libraries.\n",
        "\n",
        "* **Feature scaling (where appropriate):** The `prevailing_wage` column, which can contain large and highly variable values, is standardized using z-score normalization. This transformation improves the performance of algorithms sensitive to feature magnitude.\n",
        "\n",
        "* **One-hot encoding for nominal categories:** The `continent` column, a nominal categorical variable, is one-hot encoded to allow algorithms to leverage location-based information without imposing ordinal meaning. The first category is dropped to avoid multicollinearity.\n",
        "These preprocessing steps collectively ensure that the dataset is numerically encoded, free of critical anomalies, and ready for model training and evaluation."
      ],
      "id": "SgqAst58D0Z6"
    },
    {
      "cell_type": "code",
      "source": [
        "# Here I just want to view the current data columns\n",
        "print(data.columns)"
      ],
      "metadata": {
        "colab": {
          "base_uri": "https://localhost:8080/"
        },
        "id": "x4QC8XvmZ5ve",
        "outputId": "c5b49941-fc0e-49af-c522-9ae390d3f600"
      },
      "id": "x4QC8XvmZ5ve",
      "execution_count": null,
      "outputs": [
        {
          "output_type": "stream",
          "name": "stdout",
          "text": [
            "Index(['case_id', 'continent', 'education_of_employee', 'has_job_experience',\n",
            "       'requires_job_training', 'no_of_employees', 'yr_of_estab',\n",
            "       'region_of_employment', 'prevailing_wage', 'unit_of_wage',\n",
            "       'full_time_position', 'case_status'],\n",
            "      dtype='object')\n"
          ]
        }
      ]
    },
    {
      "cell_type": "code",
      "metadata": {
        "id": "JSD_Gt4HD0Z6"
      },
      "source": [
        "# 1. Encode categorical variable\n",
        "# Map values to binary, default missing/unknown to 0, and enforce integer type\n",
        "data['has_job_experience'] = data['has_job_experience'].map({'Yes': 1, 'No': 0}).fillna(0).astype(int)\n",
        "# 2. Drop irrelevant columns\n",
        "# Remove 'case_id' if present, since it provides no predictive value\n",
        "if 'case_id' in data.columns:\n",
        "    data = data.drop(['case_id'], axis=1)\n",
        "# 3. Convert target variable to binary format\n",
        "# Map 'Certified' to 1; all other case statuses to 0\n",
        "data['case_status'] = data['case_status'].apply(lambda x: 1 if x == 'Certified' else 0)\n",
        "# 4. Impute missing values in numeric columns\n",
        "numeric_cols = data.select_dtypes(include=['int64', 'float64']).columns\n",
        "imputer = SimpleImputer(strategy='mean')\n",
        "data[numeric_cols] = imputer.fit_transform(data[numeric_cols])\n",
        "# 5. Enforce appropriate data types\n",
        "# Ensure clean, consistent types for binary classification\n",
        "data['case_status'] = data['case_status'].astype(int)\n",
        "# 6. Feature scaling for numeric variable(s)\n",
        "# Standardize 'prevailing_wage' if present to center data and reduce scale variance\n",
        "if 'prevailing_wage' in data.columns:\n",
        "    scaler = StandardScaler()\n",
        "    data[['prevailing_wage']] = scaler.fit_transform(data[['prevailing_wage']])\n",
        "# 7. One-hot encode nominal categorical variable(s)\n",
        "# Apply to 'continent' if present in the dataset\n",
        "if 'continent' in data.columns:\n",
        "    data = pd.get_dummies(data, columns=['continent'], drop_first=True)\n",
        "# Optional: diagnostic printout to confirm structure\n",
        "# print(\"Final columns after preprocessing:\", data.columns)\n",
        "# print(\"Data shape:\", data.shape)"
      ],
      "execution_count": null,
      "outputs": [],
      "id": "JSD_Gt4HD0Z6"
    },
    {
      "cell_type": "code",
      "source": [
        "# Now, I will rerun the previous command to verify the updated canges to my np.column_stack\n",
        "print(data.columns)"
      ],
      "metadata": {
        "colab": {
          "base_uri": "https://localhost:8080/"
        },
        "id": "vgxZCQBff-Ea",
        "outputId": "92343eea-dc32-4367-bfac-6c7f46c4d4df"
      },
      "id": "vgxZCQBff-Ea",
      "execution_count": null,
      "outputs": [
        {
          "output_type": "stream",
          "name": "stdout",
          "text": [
            "Index(['education_of_employee', 'has_job_experience', 'requires_job_training',\n",
            "       'no_of_employees', 'yr_of_estab', 'region_of_employment',\n",
            "       'prevailing_wage', 'unit_of_wage', 'full_time_position', 'case_status',\n",
            "       'continent_Asia', 'continent_Europe', 'continent_North America',\n",
            "       'continent_Oceania', 'continent_South America'],\n",
            "      dtype='object')\n"
          ]
        }
      ]
    },
    {
      "cell_type": "markdown",
      "metadata": {
        "id": "ktk4mYkHD0Z6"
      },
      "source": [
        "## Feature Engineering\n",
        "* Created `wage_per_hour` by converting wage into a standard hourly rate\n",
        "* Encoded categorical variables such as education, region, and unit of wage\n",
        "* Created numerical representations for education levels"
      ],
      "id": "ktk4mYkHD0Z6"
    },
    {
      "cell_type": "code",
      "metadata": {
        "id": "jGYIHK-XD0Z7"
      },
      "source": [
        "# Has both job experience and training\n",
        "data['has_exp_and_training'] = ((data['has_job_experience'] == 'Y') &\n",
        "                                (data['requires_job_training'] == 'Y')).astype(int)\n",
        "\n",
        "# Wage normalization\n",
        "def convert_to_hourly(row):\n",
        "    wage = row['prevailing_wage']\n",
        "    unit = row['unit_of_wage']\n",
        "    if unit == 'Year': return wage / 2080\n",
        "    if unit == 'Month': return wage / 160\n",
        "    if unit == 'Week': return wage / 40\n",
        "    if unit == 'Bi-Weekly': return wage / 80\n",
        "    if unit == 'Hour': return wage\n",
        "    return np.nan\n",
        "data['wage_per_hour'] = data.apply(convert_to_hourly, axis=1)\n",
        "\n",
        "# Simplify education feature\n",
        "edu_map = {\n",
        "    'Bachelors': 1, 'Masters': 2, 'Doctorate': 3,\n",
        "    'High School': 0, 'Some College': 0.5\n",
        "}\n",
        "data['education_level_numeric'] = data['education_of_employee'].map(edu_map)\n"
      ],
      "execution_count": null,
      "outputs": [],
      "id": "jGYIHK-XD0Z7"
    },
    {
      "cell_type": "markdown",
      "source": [
        "### Target Variable Distribution\n",
        "This bar plot visualizes the distribution of the target variable `case_status`, where:\n",
        "\n",
        "`1` = Certified\n",
        "\n",
        "`0` = Denied\n",
        "\n",
        "From the chart, we observe that:\n",
        "\n",
        "* A majority of visa applications were **certified** (about 17,000 out of 25,000)\n",
        "A smaller, but substantial portion were **denied** (around 8,500)\n",
        "This class imbalance is **not severe**, but it’s still important to keep in mind for model training and evaluation.\n",
        "* We ensure model robustness by using stratified sampling during train-test split and evaluating with metrics like precision, recall, and f1-score, not just accuracy."
      ],
      "metadata": {
        "id": "VYumIHvHRkn6"
      },
      "id": "VYumIHvHRkn6"
    },
    {
      "cell_type": "code",
      "source": [
        "sns.countplot(x='case_status', data=data)\n",
        "plt.title('Case Status Distribution')\n",
        "plt.xlabel('Case Status')\n",
        "plt.ylabel('Count')\n",
        "plt.show()"
      ],
      "metadata": {
        "colab": {
          "base_uri": "https://localhost:8080/",
          "height": 573
        },
        "id": "gXnPRmj4RwpW",
        "outputId": "6373e7ac-05c4-4fbb-949f-b2c0e3e59066"
      },
      "id": "gXnPRmj4RwpW",
      "execution_count": null,
      "outputs": [
        {
          "output_type": "display_data",
          "data": {
            "text/plain": [
              "<Figure size 1000x600 with 1 Axes>"
            ],
            "image/png": "[encoded data removed]"
          },
          "metadata": {}
        }
      ]
    },
    {
      "cell_type": "markdown",
      "source": [
        "### Education Distribution\n",
        "The below bar chart displays the distribution of education levels among applicants in the dataset:\n",
        "\n",
        "* **Bachelor's degrees** are the most common, followed closely by *Master's degrees\n",
        "\n",
        "* **High School graduates** form a smaller but visible portion\n",
        "\n",
        "* **Doctorate holders** make up the smallest segment of applicants\n",
        "\n",
        "This spread reflects a workforce largely composed of skilled professionals, with a strong lean toward individuals holding post-secondary degrees.\n",
        "\n",
        "**Interpretation:**  \n",
        "This variable plays a key role in visa approval prediction as shown in the earlier analysis, higher education levels (especially Master's and Doctorate) significantly improve the likelihood of certification."
      ],
      "metadata": {
        "id": "3I3r1IfCT_bO"
      },
      "id": "3I3r1IfCT_bO"
    },
    {
      "cell_type": "code",
      "source": [
        "sns.countplot(y='education_of_employee', data=data,\n",
        "              order=data['education_of_employee'].value_counts().index)\n",
        "plt.title('Education of Employee')\n",
        "plt.show()"
      ],
      "metadata": {
        "colab": {
          "base_uri": "https://localhost:8080/",
          "height": 573
        },
        "id": "sqe1vmz_UDNz",
        "outputId": "b0590daf-ae03-4dfa-ca3c-dcd6ea981098"
      },
      "id": "sqe1vmz_UDNz",
      "execution_count": null,
      "outputs": [
        {
          "output_type": "display_data",
          "data": {
            "text/plain": [
              "<Figure size 1000x600 with 1 Axes>"
            ],
            "image/png": "[encoded data removed]"
          },
          "metadata": {}
        }
      ]
    },
    {
      "cell_type": "markdown",
      "source": [
        "### Job Experience and Training\n",
        "The below bar charts show the distribution of:\n",
        "\n",
        "**Job Experience (`has_job_experience`)**\n",
        "  The vast majority of applicants **do not** have prior job experience (`0`). This suggests that many individuals applying for visas may be new to the workforce or early in their careers.\n",
        "\n",
        "**Training Requirement (`requires_job_training`)**\n",
        "  Similarly, most applicants **do not** require job training (`N`), with a small fraction flagged as needing training.\n",
        ":mag: **Interpretation:**\n",
        "While most applicants lack experience, few require training — indicating employers may be willing to sponsor inexperienced but trainable candidates. However, earlier correlation analysis showed that having job experience is **slightly positively correlated** with visa certification, so candidates with experience might have a slight edge in approval likelihood.\n"
      ],
      "metadata": {
        "id": "JtfXy4QhUVYr"
      },
      "id": "JtfXy4QhUVYr"
    },
    {
      "cell_type": "code",
      "source": [
        "fig, axs = plt.subplots(1, 2, figsize=(12, 5))\n",
        "sns.countplot(x='has_job_experience', data=data, ax=axs[0])\n",
        "axs[0].set_title('Has Job Experience')\n",
        "sns.countplot(x='requires_job_training', data=data, ax=axs[1])\n",
        "axs[1].set_title('Requires Job Training')\n",
        "plt.tight_layout()\n",
        "plt.show()"
      ],
      "metadata": {
        "colab": {
          "base_uri": "https://localhost:8080/",
          "height": 501
        },
        "id": "llfULr1OUXqm",
        "outputId": "eb570b87-4680-475a-f7d5-c7f1cc5f614f"
      },
      "id": "llfULr1OUXqm",
      "execution_count": null,
      "outputs": [
        {
          "output_type": "display_data",
          "data": {
            "text/plain": [
              "<Figure size 1200x500 with 2 Axes>"
            ],
            "image/png": "[encoded data removed]"
          },
          "metadata": {}
        }
      ]
    },
    {
      "cell_type": "markdown",
      "source": [
        "### Correlation Heatmap\n",
        "This heatmap highlights relationships between numeric features and the target variable `case_status` (visa approval = 1, denial = 0):\n",
        "\n",
        "* **Education Level (`education_level_numeric`)** shows a moderate positive correlation (**0.52**) with visa approval. This suggests higher education levels tend to increase approval likelihood.\n",
        "\n",
        "* **Wage per Hour** is also moderately correlated with approvals (**0.43**), supporting the idea that higher-paying positions are more likely to be certified.\n",
        "\n",
        "* **Combined Experience & Training (`has_exp_and_training`)** has a smaller but still noticeable correlation (**0.21**) with visa approvals.\n",
        "Other variables such as `yr_of_estab`, `no_of_employees`, and `continent indicators` show little to no linear correlation with the target.\n",
        "\n",
        "**Takeaway:**\n",
        "The model should place higher importance on **education level** and **wage**, while remaining aware of experience and training as meaningful contributors."
      ],
      "metadata": {
        "id": "CcXNKVH_Urjq"
      },
      "id": "CcXNKVH_Urjq"
    },
    {
      "cell_type": "code",
      "source": [
        "numeric_cols = data.select_dtypes(include=np.number)\n",
        "plt.figure(figsize=(10, 6))\n",
        "sns.heatmap(numeric_cols.corr(), annot=True, cmap='coolwarm', fmt='.2f')\n",
        "plt.title('Correlation Heatmap')\n",
        "plt.show()"
      ],
      "metadata": {
        "colab": {
          "base_uri": "https://localhost:8080/",
          "height": 725
        },
        "id": "mPRW_sesUsna",
        "outputId": "0fb59809-97ae-4b97-8385-cf5bf2d27f44"
      },
      "id": "mPRW_sesUsna",
      "execution_count": null,
      "outputs": [
        {
          "output_type": "display_data",
          "data": {
            "text/plain": [
              "<Figure size 1000x600 with 2 Axes>"
            ],
            "image/png": "[encoded data removed]"
          },
          "metadata": {}
        }
      ]
    },
    {
      "cell_type": "markdown",
      "metadata": {
        "id": "1AHFvsCQD0Z8"
      },
      "source": [
        "## Feature & Target Split\n",
        "Before training a machine learning model, the dataset must be split into features (predictors) and the target variable (label to predict). Here:\n",
        "\n",
        "* `case_status` is selected as the **target** variable, representing whether the visa application was approved (1) or denied/withdrawn (0).\n",
        "\n",
        "* All other columns are treated as **features** for training.\n",
        "\n",
        "* Next, we apply a **train-test split**, stratifying on `case_status` to preserve the original class distribution. This ensures both training and testing sets are representative of the overall data. The split is set to 80/20 (training/testing), with a fixed random seed to allow reproducibility.\n"
      ],
      "id": "1AHFvsCQD0Z8"
    },
    {
      "cell_type": "code",
      "metadata": {
        "id": "8tFhyb0HD0Z9"
      },
      "source": [
        "# Dropping target from features and storing separately\n",
        "x = data.drop('case_status', axis=1)\n",
        "y = data['case_status']"
      ],
      "execution_count": null,
      "outputs": [],
      "id": "8tFhyb0HD0Z9"
    },
    {
      "cell_type": "code",
      "metadata": {
        "id": "7_iKOO1ZD0Z9",
        "colab": {
          "base_uri": "https://localhost:8080/"
        },
        "outputId": "c61456f3-47b7-4a9d-ea8c-db1d2786d679"
      },
      "source": [
        "# Train-Test Split\n",
        "from sklearn.model_selection import train_test_split\n",
        "\n",
        "# Stratify to maintain class balance across splits\n",
        "x_train, x_test, y_train, y_test = train_test_split(\n",
        "    x, y, test_size=0.2, random_state=42, stratify=y\n",
        ")\n",
        "\n",
        "print(f\"Training samples: {x_train.shape[0]}\")\n",
        "print(f\"Test samples: {x_test.shape[0]}\")"
      ],
      "execution_count": null,
      "outputs": [
        {
          "output_type": "stream",
          "name": "stdout",
          "text": [
            "Training samples: 20384\n",
            "Test samples: 5096\n"
          ]
        }
      ],
      "id": "7_iKOO1ZD0Z9"
    },
    {
      "cell_type": "markdown",
      "source": [
        "### Distribution of Features with Respect to Target\n",
        "To better understand how individual features relate to the target variable (`case_status`), we visualize feature distributions for each class (approved vs. denied applications).\n",
        "For example, the `wage_per_hour` distributions for `case_status = 0` and `case_status = 1` are plotted side by side.\n",
        "\n",
        "These plots help reveal whether a feature has **predictive power**  i.e., if the distribution differs significantly across target classes.\n",
        "For instance, if applicants with approved cases tend to have higher wages than denied cases, the model might learn to weight `wage_per_hour` more heavily.\n",
        "Such visual insights can guide **feature selection, transformation decisions**, or even lead to new feature engineering ideas."
      ],
      "metadata": {
        "id": "886oaOo6Vcuk"
      },
      "id": "886oaOo6Vcuk"
    },
    {
      "cell_type": "code",
      "source": [
        "def distribution_plot_wrt_target(data, predictor, target):\n",
        "    fig, axs = plt.subplots(1, 2, figsize=(14, 6))\n",
        "    unique_targets = data[target].unique()\n",
        "    for i, val in enumerate(unique_targets):\n",
        "        sns.histplot(data[data[target] == val][predictor], kde=True, ax=axs[i], bins=30)\n",
        "        axs[i].set_title(f'{predictor} Distribution for {target} = {val}')\n",
        "    plt.tight_layout()\n",
        "    plt.show()\n",
        "\n",
        "# Example usage\n",
        "distribution_plot_wrt_target(data, 'wage_per_hour', 'case_status')"
      ],
      "metadata": {
        "colab": {
          "base_uri": "https://localhost:8080/",
          "height": 601
        },
        "id": "N5p4VsJlVe7-",
        "outputId": "aebbbb16-1695-4838-8bb3-24ae7477edd5"
      },
      "id": "N5p4VsJlVe7-",
      "execution_count": null,
      "outputs": [
        {
          "output_type": "display_data",
          "data": {
            "text/plain": [
              "<Figure size 1400x600 with 2 Axes>"
            ],
            "image/png": "[encoded data removed]"
          },
          "metadata": {}
        }
      ]
    },
    {
      "cell_type": "markdown",
      "source": [
        "### Model Training and Evaluation\n",
        "In this section, I evaluated baseline model performance using the original training dataset without any balancing techniques. Five models were evaluated: Decision Tree, Random Forest, Gradient Boosting, AdaBoost, and Bagging."
      ],
      "metadata": {
        "id": "_EQSKzl-fToL"
      },
      "id": "_EQSKzl-fToL"
    },
    {
      "cell_type": "code",
      "source": [
        "### Model Training and Evaluation\n",
        "print(\"\\nInitiating Model Training and Evaluation\")\n",
        "print(\"=\" * 50)\n",
        "\n",
        "def prepare_and_encode_data(x_train, x_test):\n",
        "    \"\"\"\n",
        "    Prepare and encode data including handling missing values and ensuring consistent columns.\n",
        "\n",
        "    Parameters:\n",
        "    -----------\n",
        "    x_train : DataFrame\n",
        "        Training features\n",
        "    x_test : DataFrame\n",
        "        Test features\n",
        "\n",
        "    Returns:\n",
        "    --------\n",
        "    tuple : (x_train_processed, x_test_processed)\n",
        "        Processed versions of input dataframes\n",
        "    \"\"\"\n",
        "    # Create copies to avoid modifying original data\n",
        "    x_train_processed = x_train.copy()\n",
        "    x_test_processed = x_test.copy()\n",
        "\n",
        "    # 1. Handle missing values first\n",
        "    # Numerical imputer\n",
        "    num_imputer = SimpleImputer(strategy='mean')\n",
        "    numerical_columns = x_train_processed.select_dtypes(include=['float64', 'int64']).columns\n",
        "\n",
        "    if len(numerical_columns) > 0:\n",
        "        x_train_processed[numerical_columns] = num_imputer.fit_transform(x_train_processed[numerical_columns])\n",
        "        x_test_processed[numerical_columns] = num_imputer.transform(x_test_processed[numerical_columns])\n",
        "\n",
        "    # Categorical imputer\n",
        "    cat_imputer = SimpleImputer(strategy='most_frequent')\n",
        "    categorical_columns = x_train_processed.select_dtypes(include=['object']).columns\n",
        "\n",
        "    if len(categorical_columns) > 0:\n",
        "        x_train_processed[categorical_columns] = cat_imputer.fit_transform(x_train_processed[categorical_columns])\n",
        "        x_test_processed[categorical_columns] = cat_imputer.transform(x_test_processed[categorical_columns])\n",
        "\n",
        "\n",
        "    # 2. Encode categorical variables\n",
        "    # Identify columns to encode\n",
        "    columns_to_encode = x_train_processed.select_dtypes(include='object').columns\n",
        "\n",
        "    # Apply one-hot encoding and align columns\n",
        "    if len(columns_to_encode) > 0:\n",
        "        x_train_processed = pd.get_dummies(x_train_processed, columns=columns_to_encode, drop_first=True)\n",
        "        x_test_processed = pd.get_dummies(x_test_processed, columns=columns_to_encode, drop_first=True)\n",
        "\n",
        "        # Align columns after one-hot encoding to ensure consistency\n",
        "        x_train_processed, x_test_processed = x_train_processed.align(x_test_processed, join='inner', axis=1)\n",
        "\n",
        "\n",
        "    # 3. Scale numerical features\n",
        "    scaler = StandardScaler()\n",
        "    numerical_columns = x_train_processed.select_dtypes(include=['float64', 'int64', 'uint8']).columns # Include uint8 for dummy variables\n",
        "\n",
        "    if len(numerical_columns) > 0:\n",
        "        x_train_processed[numerical_columns] = scaler.fit_transform(x_train_processed[numerical_columns])\n",
        "        x_test_processed[numerical_columns] = scaler.transform(x_test_processed[numerical_columns])\n",
        "\n",
        "\n",
        "    return x_train_processed, x_test_processed\n",
        "\n",
        "# Define models to evaluate\n",
        "models = {\n",
        "    'Decision Tree': DecisionTreeClassifier(\n",
        "        random_state=42,\n",
        "        max_depth=5,\n",
        "        min_samples_split=5,\n",
        "        min_samples_leaf=2\n",
        "    ),\n",
        "    'Random Forest': RandomForestClassifier(\n",
        "        random_state=42,\n",
        "        n_estimators=100\n",
        "    ),\n",
        "    'Gradient Boosting': GradientBoostingClassifier(\n",
        "        random_state=42,\n",
        "        n_estimators=100\n",
        "    ),\n",
        "    'AdaBoost': AdaBoostClassifier(\n",
        "        random_state=42,\n",
        "        n_estimators=100\n",
        "    ),\n",
        "    'Bagging': BaggingClassifier(\n",
        "        random_state=42,\n",
        "        n_estimators=100\n",
        "    )\n",
        "}\n",
        "\n",
        "# Process and encode data\n",
        "print(\"Processing and encoding data...\")\n",
        "x_train_processed, x_test_processed = prepare_and_encode_data(x_train, x_test)\n",
        "\n",
        "# Verify no missing values remain\n",
        "print(\"\\nVerifying data processing:\")\n",
        "print(\"Missing values in training data:\", x_train_processed.isna().sum().sum())\n",
        "print(\"Missing values in test data:\", x_test_processed.isna().sum().sum())\n",
        "\n",
        "# Evaluate all models\n",
        "print(\"\\nModel Evaluation Results\")\n",
        "print(\"=\" * 50)\n",
        "\n",
        "def evaluate_model(model, x_train, x_test, y_train, y_test, model_name):\n",
        "    \"\"\"\n",
        "    Evaluate a model and print its performance metrics\n",
        "    \"\"\"\n",
        "    model.fit(x_train, y_train)\n",
        "    y_pred = model.predict(x_test)\n",
        "\n",
        "    accuracy = accuracy_score(y_test, y_pred)\n",
        "    conf_matrix = confusion_matrix(y_test, y_pred)\n",
        "    class_report = classification_report(y_test, y_pred)\n",
        "\n",
        "    print(f\"\\n{model_name} Results:\")\n",
        "    print(\"-\" * 50)\n",
        "    print(f\"Accuracy: {accuracy:.4f}\")\n",
        "    print(\"\\nConfusion Matrix:\")\n",
        "    print(conf_matrix)\n",
        "    print(\"\\nClassification Report:\")\n",
        "    print(class_report)\n",
        "\n",
        "    return accuracy\n",
        "\n",
        "original_results = {}\n",
        "for name, model in models.items():\n",
        "    print(f\"\\nTraining and evaluating {name}...\")\n",
        "    score = evaluate_model(model, x_train_processed, x_test_processed,\n",
        "                         y_train, y_test, name)\n",
        "    original_results[name] = score\n",
        "\n",
        "# Summarize model performances\n",
        "print(\"\\nModel Performance Summary\")\n",
        "print(\"=\" * 50)\n",
        "results_df = pd.DataFrame({\n",
        "    'Model': original_results.keys(),\n",
        "    'Accuracy': original_results.values()\n",
        "})\n",
        "results_df = results_df.sort_values('Accuracy', ascending=False)\n",
        "print(results_df.to_string(index=False))\n",
        "\n",
        "# Visualize model comparison\n",
        "plt.figure(figsize=(10, 6))\n",
        "sns.barplot(data=results_df, x='Accuracy', y='Model')\n",
        "plt.title('Model Performance Comparison')\n",
        "plt.xlabel('Accuracy Score')\n",
        "plt.tight_layout()\n",
        "plt.show()"
      ],
      "metadata": {
        "colab": {
          "base_uri": "https://localhost:8080/",
          "height": 1000
        },
        "id": "qbzTO4KmJXAX",
        "outputId": "0d73b4f7-9c97-4684-b9aa-57e60c0552bc"
      },
      "id": "qbzTO4KmJXAX",
      "execution_count": null,
      "outputs": [
        {
          "output_type": "stream",
          "name": "stdout",
          "text": [
            "\n",
            "Initiating Model Training and Evaluation\n",
            "==================================================\n",
            "Processing and encoding data...\n",
            "\n",
            "Verifying data processing:\n",
            "Missing values in training data: 0\n",
            "Missing values in test data: 0\n",
            "\n",
            "Model Evaluation Results\n",
            "==================================================\n",
            "\n",
            "Training and evaluating Decision Tree...\n",
            "\n",
            "Decision Tree Results:\n",
            "--------------------------------------------------\n",
            "Accuracy: 0.7255\n",
            "\n",
            "Confusion Matrix:\n",
            "[[ 597 1095]\n",
            " [ 304 3100]]\n",
            "\n",
            "Classification Report:\n",
            "              precision    recall  f1-score   support\n",
            "\n",
            "           0       0.66      0.35      0.46      1692\n",
            "           1       0.74      0.91      0.82      3404\n",
            "\n",
            "    accuracy                           0.73      5096\n",
            "   macro avg       0.70      0.63      0.64      5096\n",
            "weighted avg       0.71      0.73      0.70      5096\n",
            "\n",
            "\n",
            "Training and evaluating Random Forest...\n",
            "\n",
            "Random Forest Results:\n",
            "--------------------------------------------------\n",
            "Accuracy: 0.7011\n",
            "\n",
            "Confusion Matrix:\n",
            "[[ 715  977]\n",
            " [ 546 2858]]\n",
            "\n",
            "Classification Report:\n",
            "              precision    recall  f1-score   support\n",
            "\n",
            "           0       0.57      0.42      0.48      1692\n",
            "           1       0.75      0.84      0.79      3404\n",
            "\n",
            "    accuracy                           0.70      5096\n",
            "   macro avg       0.66      0.63      0.64      5096\n",
            "weighted avg       0.69      0.70      0.69      5096\n",
            "\n",
            "\n",
            "Training and evaluating Gradient Boosting...\n",
            "\n",
            "Gradient Boosting Results:\n",
            "--------------------------------------------------\n",
            "Accuracy: 0.7278\n",
            "\n",
            "Confusion Matrix:\n",
            "[[ 619 1073]\n",
            " [ 314 3090]]\n",
            "\n",
            "Classification Report:\n",
            "              precision    recall  f1-score   support\n",
            "\n",
            "           0       0.66      0.37      0.47      1692\n",
            "           1       0.74      0.91      0.82      3404\n",
            "\n",
            "    accuracy                           0.73      5096\n",
            "   macro avg       0.70      0.64      0.64      5096\n",
            "weighted avg       0.72      0.73      0.70      5096\n",
            "\n",
            "\n",
            "Training and evaluating AdaBoost...\n",
            "\n",
            "AdaBoost Results:\n",
            "--------------------------------------------------\n",
            "Accuracy: 0.7186\n",
            "\n",
            "Confusion Matrix:\n",
            "[[ 576 1116]\n",
            " [ 318 3086]]\n",
            "\n",
            "Classification Report:\n",
            "              precision    recall  f1-score   support\n",
            "\n",
            "           0       0.64      0.34      0.45      1692\n",
            "           1       0.73      0.91      0.81      3404\n",
            "\n",
            "    accuracy                           0.72      5096\n",
            "   macro avg       0.69      0.62      0.63      5096\n",
            "weighted avg       0.70      0.72      0.69      5096\n",
            "\n",
            "\n",
            "Training and evaluating Bagging...\n",
            "\n",
            "Bagging Results:\n",
            "--------------------------------------------------\n",
            "Accuracy: 0.6994\n",
            "\n",
            "Confusion Matrix:\n",
            "[[ 704  988]\n",
            " [ 544 2860]]\n",
            "\n",
            "Classification Report:\n",
            "              precision    recall  f1-score   support\n",
            "\n",
            "           0       0.56      0.42      0.48      1692\n",
            "           1       0.74      0.84      0.79      3404\n",
            "\n",
            "    accuracy                           0.70      5096\n",
            "   macro avg       0.65      0.63      0.63      5096\n",
            "weighted avg       0.68      0.70      0.69      5096\n",
            "\n",
            "\n",
            "Model Performance Summary\n",
            "==================================================\n",
            "            Model  Accuracy\n",
            "Gradient Boosting  0.727826\n",
            "    Decision Tree  0.725471\n",
            "         AdaBoost  0.718603\n",
            "    Random Forest  0.701138\n",
            "          Bagging  0.699372\n"
          ]
        },
        {
          "output_type": "display_data",
          "data": {
            "text/plain": [
              "<Figure size 1000x600 with 1 Axes>"
            ],
            "image/png": "[encoded data removed]"
          },
          "metadata": {}
        }
      ]
    },
    {
      "cell_type": "code",
      "source": [
        "# Import additional necessary libraries for encoding\n",
        "from sklearn.preprocessing import LabelEncoder, OneHotEncoder\n",
        "from sklearn.compose import ColumnTransformer\n",
        "\n",
        "# Identify categorical columns\n",
        "categorical_columns = x_train.select_dtypes(include=['object']).columns\n",
        "numerical_columns = x_train.select_dtypes(exclude=['object']).columns\n",
        "\n",
        "print(\"Categorical columns to encode:\", categorical_columns.tolist())\n",
        "print(\"Numerical columns:\", numerical_columns.tolist())\n",
        "\n",
        "# Separate columns for different encoding strategies\n",
        "ordinal_features = ['education_of_employee']  # Add other ordinal features as needed\n",
        "nominal_features = [col for col in categorical_columns if col not in ordinal_features]\n",
        "\n",
        "# Create label encoders for ordinal features\n",
        "label_encoders = {}\n",
        "for column in ordinal_features:\n",
        "    label_encoders[column] = LabelEncoder()\n",
        "    x_train[column] = label_encoders[column].fit_transform(x_train[column])\n",
        "    x_test[column] = label_encoders[column].transform(x_test[column])\n",
        "\n",
        "# Create preprocessor for nominal features\n",
        "preprocessor = ColumnTransformer(\n",
        "    transformers=[\n",
        "        ('num', 'passthrough', numerical_columns),\n",
        "        ('cat', OneHotEncoder(drop='first', sparse_output=False), nominal_features)  # Updated parameter name\n",
        "    ])\n",
        "\n",
        "# Fit and transform the data\n",
        "x_train_encoded = preprocessor.fit_transform(x_train)\n",
        "x_test_encoded = preprocessor.transform(x_test)\n",
        "\n",
        "# Get feature names after encoding\n",
        "feature_names = (\n",
        "    list(numerical_columns) +\n",
        "    [f\"{col}_{val}\" for col, vals in zip(nominal_features,\n",
        "                                        preprocessor.named_transformers_['cat'].categories_)\n",
        "     for val in vals[1:]]\n",
        ")\n",
        "\n",
        "print(\"\\nShape of encoded training data:\", x_train_encoded.shape)\n",
        "print(\"Encoded feature names:\", feature_names)\n",
        "\n"
      ],
      "metadata": {
        "colab": {
          "base_uri": "https://localhost:8080/"
        },
        "id": "rHNnw0ZNxGy_",
        "outputId": "b219bf8b-138a-4529-a08e-a0b2fa420c2a"
      },
      "id": "rHNnw0ZNxGy_",
      "execution_count": null,
      "outputs": [
        {
          "output_type": "stream",
          "name": "stdout",
          "text": [
            "Categorical columns to encode: ['education_of_employee', 'requires_job_training', 'region_of_employment', 'unit_of_wage', 'full_time_position']\n",
            "Numerical columns: ['has_job_experience', 'no_of_employees', 'yr_of_estab', 'prevailing_wage', 'continent_Asia', 'continent_Europe', 'continent_North America', 'continent_Oceania', 'continent_South America', 'has_exp_and_training', 'wage_per_hour', 'education_level_numeric']\n",
            "\n",
            "Shape of encoded training data: (20384, 21)\n",
            "Encoded feature names: ['has_job_experience', 'no_of_employees', 'yr_of_estab', 'prevailing_wage', 'continent_Asia', 'continent_Europe', 'continent_North America', 'continent_Oceania', 'continent_South America', 'has_exp_and_training', 'wage_per_hour', 'education_level_numeric', 'requires_job_training_Y', 'region_of_employment_Midwest', 'region_of_employment_Northeast', 'region_of_employment_South', 'region_of_employment_West', 'unit_of_wage_Month', 'unit_of_wage_Week', 'unit_of_wage_Year', 'full_time_position_Y']\n"
          ]
        }
      ]
    },
    {
      "cell_type": "code",
      "metadata": {
        "id": "pE2j4ANOD0aA",
        "colab": {
          "base_uri": "https://localhost:8080/"
        },
        "outputId": "edd66311-bbf6-4247-fb2e-08bb8f02f6e0"
      },
      "source": [
        "# Make predictions\n",
        "y_pred = model.predict(x_test_processed)\n",
        "# Evaluation\n",
        "print(confusion_matrix(y_test, y_pred))\n",
        "print(classification_report(y_test, y_pred))\n",
        "print(\"Accuracy:\", accuracy_score(y_test, y_pred))"
      ],
      "execution_count": null,
      "outputs": [
        {
          "output_type": "stream",
          "name": "stdout",
          "text": [
            "[[ 597 1095]\n",
            " [ 304 3100]]\n",
            "              precision    recall  f1-score   support\n",
            "\n",
            "           0       0.66      0.35      0.46      1692\n",
            "           1       0.74      0.91      0.82      3404\n",
            "\n",
            "    accuracy                           0.73      5096\n",
            "   macro avg       0.70      0.63      0.64      5096\n",
            "weighted avg       0.71      0.73      0.70      5096\n",
            "\n",
            "Accuracy: 0.7254709576138147\n"
          ]
        }
      ],
      "id": "pE2j4ANOD0aA"
    },
    {
      "cell_type": "markdown",
      "source": [
        "## Comprehensive Model Building\n",
        "This section initiates comprehensive model building using the original, unbalanced dataset.\n",
        "Five classifiers are defined and evaluated:\n",
        "* Decision Tree\n",
        "* Random Forest\n",
        "* Bagging\n",
        "* AdaBoost\n",
        "* Gradient Boosting\n",
        "\n",
        "Each model is trained on the preprocessed training data and tested on the holdout test set.\n",
        "A shared evaluation function, `evaluate_model()`, is used to generate predictions and report performance metrics for each classifier, including accuracy, precision, recall, and F1-score. This function enables consistent performance comparison across models.\n",
        "These baseline results, generated using the original dataset, will later be contrasted with performance after applying SMOTE to assess the impact of handling class imbalance."
      ],
      "metadata": {
        "id": "MKvJzrZM9ZdQ"
      },
      "id": "MKvJzrZM9ZdQ"
    },
    {
      "cell_type": "code",
      "source": [
        "# 1. Original Data Models\n",
        "from sklearn.ensemble import RandomForestClassifier, BaggingClassifier, GradientBoostingClassifier, AdaBoostClassifier\n",
        "\n",
        "models = {\n",
        "    'Decision Tree': DecisionTreeClassifier(random_state=42),\n",
        "    'Random Forest': RandomForestClassifier(random_state=42),\n",
        "    'Bagging': BaggingClassifier(random_state=42),\n",
        "    'AdaBoost': AdaBoostClassifier(random_state=42),\n",
        "    'Gradient Boosting': GradientBoostingClassifier(random_state=42)\n",
        "}\n",
        "\n",
        "# Model evaluation function\n",
        "def evaluate_model(model, X_train, X_test, y_train, y_test, model_name):\n",
        "    model.fit(X_train, y_train)\n",
        "    y_pred = model.predict(X_test)\n",
        "\n",
        "    print(f\"\\n{model_name} Results:\")\n",
        "    print(\"-\" * 50)\n",
        "    print(f\"Accuracy: {accuracy_score(y_test, y_pred):.4f}\")\n",
        "    print(\"\\nClassification Report:\")\n",
        "    print(classification_report(y_test, y_pred))\n",
        "\n",
        "    return accuracy_score(y_test, y_pred)\n"
      ],
      "metadata": {
        "id": "Rm-vKo1M-gLF"
      },
      "id": "Rm-vKo1M-gLF",
      "execution_count": null,
      "outputs": []
    },
    {
      "cell_type": "markdown",
      "source": [
        "## Model Evaluation Using Oversampled Data\n",
        "This section focuses on evaluating the performance of multiple classifiers using SMOTE oversampled data to address class imbalance. Below is a summary of the models tested, along with their corresponding accuracy scores.\n",
        "### Classifiers Evaluated:\n",
        "Decision Tree\n",
        "Random Forest\n",
        "Bagging\n",
        "AdaBoost\n",
        "Gradient Boosting\n",
        "### Accuracy Scores (Oversampled Data):\n",
        "| Model             | Accuracy |\n",
        "|------------------|----------|\n",
        "| Decision Tree     | 0.6187   |\n",
        "| Random Forest     | 0.6898   |\n",
        "| Bagging           | 0.6658   |\n",
        "| AdaBoost          | 0.7174   |\n",
        "| Gradient Boosting | 0.7249   |\n",
        "\n",
        "### Interpretation:\n",
        "The Gradient Boosting Classifier outperformed the other models with the highest accuracy of 72.49%, followed closely by AdaBoost.\n",
        "Decision Tree, being a simpler model, showed the lowest performance, which is expected in imbalanced datasets.\n",
        "Ensemble methods (Random Forest, Bagging, Boosting) generally improved performance by reducing overfitting and variance.\n",
        "These results indicate that oversampling using SMOTE can enhance the performance of most classifiers, particularly ensemble methods.\n",
        "### Next Steps:\n",
        "The next phase will involve evaluating these same models on undersampled data, which uses fewer examples from the majority class to balance the dataset. This will help determine whether oversampling or undersampling yields better results for this classification task."
      ],
      "metadata": {
        "id": "hAa-GXOPjjEB"
      },
      "id": "hAa-GXOPjjEB"
    },
    {
      "cell_type": "code",
      "source": [
        "## Oversampling\n",
        "from imblearn.over_sampling import SMOTE\n",
        "from sklearn.impute import SimpleImputer\n",
        "\n",
        "# Impute missing values before applying SMOTE\n",
        "imputer = SimpleImputer(strategy='mean')\n",
        "x_train_encoded_imputed = imputer.fit_transform(x_train_encoded)\n",
        "# Impute test data as well to maintain consistency, using the imputer fitted on training data\n",
        "x_test_encoded_imputed = imputer.transform(x_test_encoded)\n",
        "\n",
        "\n",
        "smote = SMOTE(random_state=42)\n",
        "X_train_over, y_train_over = smote.fit_resample(x_train_encoded_imputed, y_train)\n",
        "\n",
        "print(\"Shape of oversampled training data:\", X_train_over.shape)"
      ],
      "metadata": {
        "colab": {
          "base_uri": "https://localhost:8080/"
        },
        "id": "gk1iBvCl-0F5",
        "outputId": "a88c6cc0-a6cd-4baf-ba77-43dd216dbc2a"
      },
      "id": "gk1iBvCl-0F5",
      "execution_count": null,
      "outputs": [
        {
          "output_type": "stream",
          "name": "stdout",
          "text": [
            "Shape of oversampled training data: (27228, 21)\n"
          ]
        }
      ]
    },
    {
      "cell_type": "code",
      "source": [
        "# Evaluate models with oversampled data\n",
        "oversampled_results = {}\n",
        "for name, model in models.items():\n",
        "    score = evaluate_model(model, X_train_over, x_test_encoded_imputed, y_train_over, y_test, f\"{name} (Oversampled)\")\n",
        "    oversampled_results[name] = score"
      ],
      "metadata": {
        "colab": {
          "base_uri": "https://localhost:8080/"
        },
        "id": "0ykuRRtq-4x1",
        "outputId": "8a293bf0-9e12-448c-efe3-83335b2b009b"
      },
      "id": "0ykuRRtq-4x1",
      "execution_count": null,
      "outputs": [
        {
          "output_type": "stream",
          "name": "stdout",
          "text": [
            "\n",
            "Decision Tree (Oversampled) Results:\n",
            "--------------------------------------------------\n",
            "Accuracy: 0.6187\n",
            "\n",
            "Classification Report:\n",
            "              precision    recall  f1-score   support\n",
            "\n",
            "           0       0.43      0.44      0.43      1692\n",
            "           1       0.72      0.71      0.71      3404\n",
            "\n",
            "    accuracy                           0.62      5096\n",
            "   macro avg       0.57      0.57      0.57      5096\n",
            "weighted avg       0.62      0.62      0.62      5096\n",
            "\n",
            "\n",
            "Random Forest (Oversampled) Results:\n",
            "--------------------------------------------------\n",
            "Accuracy: 0.6898\n",
            "\n",
            "Classification Report:\n",
            "              precision    recall  f1-score   support\n",
            "\n",
            "           0       0.54      0.42      0.47      1692\n",
            "           1       0.74      0.83      0.78      3404\n",
            "\n",
            "    accuracy                           0.69      5096\n",
            "   macro avg       0.64      0.62      0.63      5096\n",
            "weighted avg       0.67      0.69      0.68      5096\n",
            "\n",
            "\n",
            "Bagging (Oversampled) Results:\n",
            "--------------------------------------------------\n",
            "Accuracy: 0.6650\n",
            "\n",
            "Classification Report:\n",
            "              precision    recall  f1-score   support\n",
            "\n",
            "           0       0.50      0.48      0.49      1692\n",
            "           1       0.75      0.76      0.75      3404\n",
            "\n",
            "    accuracy                           0.67      5096\n",
            "   macro avg       0.62      0.62      0.62      5096\n",
            "weighted avg       0.66      0.67      0.66      5096\n",
            "\n",
            "\n",
            "AdaBoost (Oversampled) Results:\n",
            "--------------------------------------------------\n",
            "Accuracy: 0.7174\n",
            "\n",
            "Classification Report:\n",
            "              precision    recall  f1-score   support\n",
            "\n",
            "           0       0.63      0.37      0.46      1692\n",
            "           1       0.74      0.89      0.81      3404\n",
            "\n",
            "    accuracy                           0.72      5096\n",
            "   macro avg       0.68      0.63      0.64      5096\n",
            "weighted avg       0.70      0.72      0.69      5096\n",
            "\n",
            "\n",
            "Gradient Boosting (Oversampled) Results:\n",
            "--------------------------------------------------\n",
            "Accuracy: 0.7249\n",
            "\n",
            "Classification Report:\n",
            "              precision    recall  f1-score   support\n",
            "\n",
            "           0       0.65      0.37      0.47      1692\n",
            "           1       0.74      0.90      0.81      3404\n",
            "\n",
            "    accuracy                           0.72      5096\n",
            "   macro avg       0.70      0.64      0.64      5096\n",
            "weighted avg       0.71      0.72      0.70      5096\n",
            "\n"
          ]
        }
      ]
    },
    {
      "cell_type": "code",
      "source": [
        "## Undersampling\n",
        "from imblearn.under_sampling import RandomUnderSampler\n",
        "\n",
        "rus = RandomUnderSampler(random_state=42)\n",
        "X_train_under, y_train_under = rus.fit_resample(x_train_encoded_imputed, y_train)"
      ],
      "metadata": {
        "id": "S4ScKHe0_BEg"
      },
      "id": "S4ScKHe0_BEg",
      "execution_count": null,
      "outputs": []
    },
    {
      "cell_type": "markdown",
      "source": [
        "\n",
        "# Evaluate models with undersampled data\n",
        "This section evaluates classifier performance using an undersampled version of the original dataset.\n",
        "Undersampling helps balance class distribution by reducing the number of majority class samples.\n",
        "By applying `RandomUnderSampler`, we address class imbalance in a different way than SMOTE. The goal is to observe how the models perform when trained on a reduced but balanced dataset.\n",
        "The same evaluation function is used to maintain consistency across models.\n",
        "Performance metrics such as precision, recall, f1-score, and overall accuracy are collected and analyzed for each classifier."
      ],
      "metadata": {
        "id": "wqlEz8A2CMj7"
      },
      "id": "wqlEz8A2CMj7"
    },
    {
      "cell_type": "code",
      "source": [
        "# Evaluate models with undersampled data\n",
        "undersampled_results = {}\n",
        "for name, model in models.items():\n",
        "    score = evaluate_model(model, X_train_under, x_test_encoded_imputed, y_train_under, y_test, f\"{name} (Undersampled)\")\n",
        "    undersampled_results[name] = score"
      ],
      "metadata": {
        "colab": {
          "base_uri": "https://localhost:8080/"
        },
        "id": "ehSHgtHECUvW",
        "outputId": "4e905c87-39ef-42cc-b7bb-f26a3b89de5c"
      },
      "id": "ehSHgtHECUvW",
      "execution_count": null,
      "outputs": [
        {
          "output_type": "stream",
          "name": "stdout",
          "text": [
            "\n",
            "Decision Tree (Undersampled) Results:\n",
            "--------------------------------------------------\n",
            "Accuracy: 0.5775\n",
            "\n",
            "Classification Report:\n",
            "              precision    recall  f1-score   support\n",
            "\n",
            "           0       0.41      0.60      0.48      1692\n",
            "           1       0.74      0.57      0.64      3404\n",
            "\n",
            "    accuracy                           0.58      5096\n",
            "   macro avg       0.57      0.58      0.56      5096\n",
            "weighted avg       0.63      0.58      0.59      5096\n",
            "\n",
            "\n",
            "Random Forest (Undersampled) Results:\n",
            "--------------------------------------------------\n",
            "Accuracy: 0.6342\n",
            "\n",
            "Classification Report:\n",
            "              precision    recall  f1-score   support\n",
            "\n",
            "           0       0.46      0.61      0.53      1692\n",
            "           1       0.77      0.65      0.70      3404\n",
            "\n",
            "    accuracy                           0.63      5096\n",
            "   macro avg       0.62      0.63      0.61      5096\n",
            "weighted avg       0.67      0.63      0.64      5096\n",
            "\n",
            "\n",
            "Bagging (Undersampled) Results:\n",
            "--------------------------------------------------\n",
            "Accuracy: 0.5969\n",
            "\n",
            "Classification Report:\n",
            "              precision    recall  f1-score   support\n",
            "\n",
            "           0       0.43      0.67      0.52      1692\n",
            "           1       0.77      0.56      0.65      3404\n",
            "\n",
            "    accuracy                           0.60      5096\n",
            "   macro avg       0.60      0.62      0.59      5096\n",
            "weighted avg       0.66      0.60      0.61      5096\n",
            "\n",
            "\n",
            "AdaBoost (Undersampled) Results:\n",
            "--------------------------------------------------\n",
            "Accuracy: 0.6907\n",
            "\n",
            "Classification Report:\n",
            "              precision    recall  f1-score   support\n",
            "\n",
            "           0       0.53      0.58      0.55      1692\n",
            "           1       0.78      0.75      0.76      3404\n",
            "\n",
            "    accuracy                           0.69      5096\n",
            "   macro avg       0.66      0.66      0.66      5096\n",
            "weighted avg       0.70      0.69      0.69      5096\n",
            "\n",
            "\n",
            "Gradient Boosting (Undersampled) Results:\n",
            "--------------------------------------------------\n",
            "Accuracy: 0.6911\n",
            "\n",
            "Classification Report:\n",
            "              precision    recall  f1-score   support\n",
            "\n",
            "           0       0.53      0.58      0.55      1692\n",
            "           1       0.78      0.75      0.76      3404\n",
            "\n",
            "    accuracy                           0.69      5096\n",
            "   macro avg       0.66      0.66      0.66      5096\n",
            "weighted avg       0.70      0.69      0.69      5096\n",
            "\n"
          ]
        }
      ]
    },
    {
      "cell_type": "markdown",
      "source": [
        "## Hyperparameter Tuning\n",
        "This section focuses on optimizing model performance through hyperparameter tuning.\n",
        "Using `GridSearchCV`, I systematically explored combinations of hyperparameters for the top-performing classifiers based on earlier evaluations.\n",
        "Models selected for tuning:\n",
        "\n",
        "* Random Forest\n",
        "\n",
        "* Gradient Boosting\n",
        "* AdaBoost\n",
        "\n",
        "Tuning is conducted using 5-fold cross-validation to find the best parameter configuration for each model.\n",
        "Key hyperparameters such as number of estimators, max depth, learning rate, and minimum samples per leaf are explored to enhance accuracy and generalizability."
      ],
      "metadata": {
        "id": "1vD7GUU5CcJW"
      },
      "id": "1vD7GUU5CcJW"
    },
    {
      "cell_type": "code",
      "source": [
        "from sklearn.model_selection import GridSearchCV\n",
        "\n",
        "# Select top 3 performing models based on results\n",
        "best_models = {\n",
        "    'Random Forest': {\n",
        "        'model': RandomForestClassifier(random_state=42),\n",
        "        'params': {\n",
        "            'n_estimators': [100, 200],\n",
        "            'max_depth': [10, 20],\n",
        "            'min_samples_split': [2, 5]\n",
        "        }\n",
        "    },\n",
        "    'Gradient Boosting': {\n",
        "        'model': GradientBoostingClassifier(random_state=42),\n",
        "        'params': {\n",
        "            'n_estimators': [100, 200],\n",
        "            'learning_rate': [0.01, 0.1],\n",
        "            'max_depth': [3, 5]\n",
        "        }\n",
        "    },\n",
        "    'AdaBoost': {\n",
        "        'model': AdaBoostClassifier(random_state=42),\n",
        "        'params': {\n",
        "            'n_estimators': [50, 100],\n",
        "            'learning_rate': [0.01, 0.1]\n",
        "        }\n",
        "    }\n",
        "}\n"
      ],
      "metadata": {
        "id": "mwbVbmBS-qBw"
      },
      "id": "mwbVbmBS-qBw",
      "execution_count": null,
      "outputs": []
    },
    {
      "cell_type": "markdown",
      "source": [
        "# Tune best models\n",
        "Here, I used `GridSearchCV` to perform exhaustive hyperparameter search on selected models.\n",
        "\n",
        "The best parameter sets are identified and printed along with their associated cross-validation scores.\n",
        "\n",
        "These optimal configurations will be used to evaluate final performance on the test dataset, ensuring fair and well-tuned comparisons.\n"
      ],
      "metadata": {
        "id": "A7MKYdflCkqU"
      },
      "id": "A7MKYdflCkqU"
    },
    {
      "cell_type": "code",
      "source": [
        "# Tune best models\n",
        "tuned_results = {}\n",
        "for name, config in best_models.items():\n",
        "    grid_search = GridSearchCV(config['model'], config['params'], cv=5)\n",
        "    grid_search.fit(x_train_encoded_imputed, y_train)\n",
        "\n",
        "    print(f\"\\nBest parameters for {name}:\")\n",
        "    print(grid_search.best_params_)\n",
        "    print(f\"Best cross-validation score: {grid_search.best_score_:.4f}\")\n"
      ],
      "metadata": {
        "colab": {
          "base_uri": "https://localhost:8080/"
        },
        "id": "MX1lFxpbCl7B",
        "outputId": "79256561-ef8f-4805-bd8b-2e15d8094da5"
      },
      "id": "MX1lFxpbCl7B",
      "execution_count": null,
      "outputs": [
        {
          "output_type": "stream",
          "name": "stdout",
          "text": [
            "\n",
            "Best parameters for Random Forest:\n",
            "{'max_depth': 10, 'min_samples_split': 2, 'n_estimators': 200}\n",
            "Best cross-validation score: 0.7305\n",
            "\n",
            "Best parameters for Gradient Boosting:\n",
            "{'learning_rate': 0.01, 'max_depth': 3, 'n_estimators': 200}\n",
            "Best cross-validation score: 0.7324\n",
            "\n",
            "Best parameters for AdaBoost:\n",
            "{'learning_rate': 0.1, 'n_estimators': 100}\n",
            "Best cross-validation score: 0.7271\n"
          ]
        }
      ]
    },
    {
      "cell_type": "markdown",
      "source": [
        "### Evaluate on test set\n",
        "I evaluated multiple classification models using cross-validation accuracy.\n",
        "Gradient Boosting yielded the highest performance, followed closely by Decision Tree and AdaBoost."
      ],
      "metadata": {
        "id": "8b9hpKkEC2vm"
      },
      "id": "8b9hpKkEC2vm"
    },
    {
      "cell_type": "code",
      "source": [
        "## Model Evaluation Summary\n",
        "\n",
        "I evaluated multiple classification models using cross-validation accuracy.\n",
        "Gradient Boosting yielded the highest performance, followed closely by Decision Tree and AdaBoost."
      ],
      "metadata": {
        "id": "FXoZOJ32Xwkc"
      },
      "id": "FXoZOJ32Xwkc",
      "execution_count": null,
      "outputs": []
    },
    {
      "cell_type": "code",
      "source": [
        "# Evaluate on test set\n",
        "for name, config in best_models.items():\n",
        "    # Retrain the model with the best parameters found during GridSearchCV\n",
        "    grid_search = GridSearchCV(config['model'], config['params'], cv=5)\n",
        "    grid_search.fit(x_train_encoded_imputed, y_train) # Fit on the training data\n",
        "\n",
        "    best_model = grid_search.best_estimator_ # Get the best model from the grid search\n",
        "\n",
        "    y_pred = best_model.predict(x_test_encoded_imputed) # Predict on the test data\n",
        "    test_score = accuracy_score(y_test, y_pred)\n",
        "    tuned_results[name] = test_score\n",
        "\n",
        "    print(f\"\\n{name} Test Set Score: {test_score:.4f}\")\n",
        "    print(f\"Classification Report for {name} on Test Set:\")\n",
        "    print(classification_report(y_test, y_pred))\n",
        "\n",
        "\n",
        "# Summarize tuned model test performances\n",
        "print(\"\\nTuned Model Performance Summary (Test Set)\")\n",
        "print(\"=\" * 50)\n",
        "tuned_results_df = pd.DataFrame({\n",
        "    'Model': tuned_results.keys(),\n",
        "    'Accuracy (Test Set)': tuned_results.values()\n",
        "})\n",
        "tuned_results_df = tuned_results_df.sort_values('Accuracy (Test Set)', ascending=False)\n",
        "print(tuned_results_df.to_string(index=False))\n",
        "\n",
        "# Visualize tuned model comparison\n",
        "plt.figure(figsize=(10, 6))\n",
        "sns.barplot(data=tuned_results_df, x='Accuracy (Test Set)', y='Model')\n",
        "plt.title('Tuned Model Performance Comparison (Test Set)')\n",
        "plt.xlabel('Accuracy Score')\n",
        "plt.tight_layout()\n",
        "plt.show()"
      ],
      "metadata": {
        "colab": {
          "base_uri": "https://localhost:8080/",
          "height": 1000
        },
        "id": "3InEvlD2C7sj",
        "outputId": "5e0c4b6a-2c03-4fed-ad3b-0b002953bf5e"
      },
      "id": "3InEvlD2C7sj",
      "execution_count": null,
      "outputs": [
        {
          "output_type": "stream",
          "name": "stdout",
          "text": [
            "\n",
            "Random Forest Test Set Score: 0.7235\n",
            "Classification Report for Random Forest on Test Set:\n",
            "              precision    recall  f1-score   support\n",
            "\n",
            "           0       0.65      0.36      0.46      1692\n",
            "           1       0.74      0.90      0.81      3404\n",
            "\n",
            "    accuracy                           0.72      5096\n",
            "   macro avg       0.70      0.63      0.64      5096\n",
            "weighted avg       0.71      0.72      0.70      5096\n",
            "\n",
            "\n",
            "Gradient Boosting Test Set Score: 0.7261\n",
            "Classification Report for Gradient Boosting on Test Set:\n",
            "              precision    recall  f1-score   support\n",
            "\n",
            "           0       0.66      0.36      0.47      1692\n",
            "           1       0.74      0.91      0.82      3404\n",
            "\n",
            "    accuracy                           0.73      5096\n",
            "   macro avg       0.70      0.63      0.64      5096\n",
            "weighted avg       0.71      0.73      0.70      5096\n",
            "\n",
            "\n",
            "AdaBoost Test Set Score: 0.7200\n",
            "Classification Report for AdaBoost on Test Set:\n",
            "              precision    recall  f1-score   support\n",
            "\n",
            "           0       0.64      0.35      0.46      1692\n",
            "           1       0.74      0.90      0.81      3404\n",
            "\n",
            "    accuracy                           0.72      5096\n",
            "   macro avg       0.69      0.63      0.63      5096\n",
            "weighted avg       0.71      0.72      0.69      5096\n",
            "\n",
            "\n",
            "Tuned Model Performance Summary (Test Set)\n",
            "==================================================\n",
            "            Model  Accuracy (Test Set)\n",
            "Gradient Boosting             0.726060\n",
            "    Random Forest             0.723509\n",
            "         AdaBoost             0.719976\n"
          ]
        },
        {
          "output_type": "display_data",
          "data": {
            "text/plain": [
              "<Figure size 1000x600 with 1 Axes>"
            ],
            "image/png": "[encoded data removed]"
          },
          "metadata": {}
        }
      ]
    },
    {
      "cell_type": "markdown",
      "source": [
        "## Final Model Selection and Recommendations\n",
        "\n",
        "After tuning and evaluating multiple models, the best-performing model was selected based on cross-validation scores and test set accuracy. The selected model demonstrated strong predictive performance and interpretability.\n",
        "Key criteria for final selection included:\n",
        "Highest cross-validation accuracy\n",
        "Balanced bias-variance tradeoff\n",
        "Practical interpretability for stakeholders\n",
        "Based on these factors, the recommended model for deployment is the **Random Forest Classifier**, which showed reliable accuracy and clear feature importance insights."
      ],
      "metadata": {
        "id": "hhz1EEZnDCdI"
      },
      "id": "hhz1EEZnDCdI"
    },
    {
      "cell_type": "markdown",
      "source": [
        "## Business Recommendations"
      ],
      "metadata": {
        "id": "Wn2YF_PB9uMk"
      },
      "id": "Wn2YF_PB9uMk"
    },
    {
      "cell_type": "markdown",
      "metadata": {
        "id": "OdVp5KhED0aB"
      },
      "source": [
        "## Actionable Insights and Business Recommendations\n",
        "### Actionable Insights from Data\n",
        "Based on analysis of the EasyVisa dataset (25,480 records), several patterns emerged that correlate strongly with visa certification outcomes:\n",
        "\n",
        "**Education Level**\n",
        "\n",
        "* Applicants with a **Doctorate** had the highest approval rate: **87.2% Certified**\n",
        "\n",
        "* **Master's degree holders** followed at **78.6% Certified**\n",
        "\n",
        "* **High School graduates** had the lowest success rate: **34.0% Certified**\n",
        "\n",
        "**Job Experience**\n",
        "\n",
        "* Applicants **with prior job experience** were significantly more likely to be approved (**74.5% Certified**) than those without (**56.1% Certified**)\n",
        "\n",
        "**Job Training Requirement**\n",
        "* Applications **not requiring on-the-job training** had slightly lower certification rate (**66.6%**) compared to those that did (**67.9%**) — indicating training is not a major deterrent.\n",
        "\n",
        "**Full-Time Position**\n",
        "* Surprisingly, both full-time (**66.6%**) and part-time (**68.5%**) positions had comparable approval rates, showing that full-time status alone is not a major determining factor.\n",
        "\n",
        "**Continent of Origin**\n",
        "\n",
        "* Applicants from **Europe** had the highest certification rates (**79.2%**), followed by **Africa (72.1%)** and **Asia (65.3%)**\n",
        "\n",
        "* **South America** had the lowest at **57.9%**\n",
        "\n",
        "**Region of Employment in the U.S.**\n",
        "\n",
        "* Jobs located in the **Midwest (75.5%)** and **South (70.0%)** had higher approval rates than those in the **West (62.3%)** and **Northeast (62.9%)**\n",
        "\n",
        "\n",
        "### Business Recommendations\n",
        "\n",
        "These insights can support strategic decision-making and operational improvements:\n",
        "\n",
        "* **Applicant Guidance**\n",
        "Provide applicants with low-certification education levels (e.g., High School) tailored resources or highlight upskilling pathways.\n",
        "Encourage applicants with no job experience to strengthen their profiles before applying.\n",
        "\n",
        "* **Employer Targeting**\n",
        "Prioritize employer outreach in regions like the **Midwest** and **South**, where certification rates are higher.\n",
        "Offer support to employers in lower-certification regions (e.g., West, Northeast) to help improve submission quality.\n",
        "\n",
        "* **Policy Adjustments**\n",
        "Incorporate weighted scoring in visa evaluation tools based on education and experience tiers.\n",
        "Consider region-based adjustment factors in prediction tools or resource allocation.\n",
        "\n",
        "* **Model Deployment Suggestions**\n",
        "Integrate a model that flags low-probability applications early in the pipeline to reduce manual review time.\n",
        "Use certification probability thresholds to recommend enhanced document submission for borderline applicants.\n",
        "These combined insights and recommendations aim to optimize resource allocation, improve visa approval efficiency, and increase transparency in the evaluation process."
      ],
      "id": "OdVp5KhED0aB"
    },
    {
      "cell_type": "markdown",
      "source": [
        "### End of Notebook\n",
        "Thank you for reviewing this analysis."
      ],
      "metadata": {
        "id": "5wZNOzV5oR2B"
      },
      "id": "5wZNOzV5oR2B"
    }
  ],
  "metadata": {
    "kernelspec": {
      "display_name": "Python 3",
      "language": "python",
      "name": "python3"
    },
    "language_info": {
      "name": "python",
      "version": "3.x"
    },
    "colab": {
      "provenance": []
    }
  },
  "nbformat": 4,
  "nbformat_minor": 5
}